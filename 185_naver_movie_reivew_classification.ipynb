{
  "nbformat": 4,
  "nbformat_minor": 0,
  "metadata": {
    "accelerator": "GPU",
    "colab": {
      "name": "185_naver_movie_reivew_classification.ipynb",
      "provenance": []
    },
    "kernelspec": {
      "display_name": "Python 3",
      "language": "python",
      "name": "python3"
    },
    "language_info": {
      "codemirror_mode": {
        "name": "ipython",
        "version": 3
      },
      "file_extension": ".py",
      "mimetype": "text/x-python",
      "name": "python",
      "nbconvert_exporter": "python",
      "pygments_lexer": "ipython3",
      "version": "3.7.6"
    }
  },
  "cells": [
    {
      "cell_type": "markdown",
      "metadata": {
        "colab_type": "text",
        "id": "Q8keQOCGZG2p"
      },
      "source": [
        "# 185. 네이버 영화평 감성 분류\n",
        "\n",
        "- 한글 형태소 분석기 Okt 사용 전처리  \n",
        "\n",
        "- Keras Tokenizer, pad_sequences 함수 사용"
      ]
    },
    {
      "cell_type": "code",
      "metadata": {
        "colab_type": "code",
        "id": "thLM4zKvZuKd",
        "outputId": "f14adc2b-1ffa-4e60-bca2-da7e89ea0d69",
        "colab": {
          "base_uri": "https://localhost:8080/",
          "height": 581
        }
      },
      "source": [
        "pip install KoNLPy"
      ],
      "execution_count": 2,
      "outputs": [
        {
          "output_type": "stream",
          "text": [
            "Collecting KoNLPy\n",
            "\u001b[?25l  Downloading https://files.pythonhosted.org/packages/85/0e/f385566fec837c0b83f216b2da65db9997b35dd675e107752005b7d392b1/konlpy-0.5.2-py2.py3-none-any.whl (19.4MB)\n",
            "\u001b[K     |████████████████████████████████| 19.4MB 169kB/s \n",
            "\u001b[?25hCollecting beautifulsoup4==4.6.0\n",
            "\u001b[?25l  Downloading https://files.pythonhosted.org/packages/9e/d4/10f46e5cfac773e22707237bfcd51bbffeaf0a576b0a847ec7ab15bd7ace/beautifulsoup4-4.6.0-py3-none-any.whl (86kB)\n",
            "\u001b[K     |████████████████████████████████| 92kB 10.0MB/s \n",
            "\u001b[?25hRequirement already satisfied: lxml>=4.1.0 in /usr/local/lib/python3.6/dist-packages (from KoNLPy) (4.2.6)\n",
            "Collecting JPype1>=0.7.0\n",
            "\u001b[?25l  Downloading https://files.pythonhosted.org/packages/2d/9b/e115101a833605b3c0e6f3a2bc1f285c95aaa1d93ab808314ca1bde63eed/JPype1-0.7.5-cp36-cp36m-manylinux2010_x86_64.whl (3.6MB)\n",
            "\u001b[K     |████████████████████████████████| 3.6MB 47.1MB/s \n",
            "\u001b[?25hCollecting tweepy>=3.7.0\n",
            "  Downloading https://files.pythonhosted.org/packages/36/1b/2bd38043d22ade352fc3d3902cf30ce0e2f4bf285be3b304a2782a767aec/tweepy-3.8.0-py2.py3-none-any.whl\n",
            "Requirement already satisfied: numpy>=1.6 in /usr/local/lib/python3.6/dist-packages (from KoNLPy) (1.18.4)\n",
            "Collecting colorama\n",
            "  Downloading https://files.pythonhosted.org/packages/c9/dc/45cdef1b4d119eb96316b3117e6d5708a08029992b2fee2c143c7a0a5cc5/colorama-0.4.3-py2.py3-none-any.whl\n",
            "Requirement already satisfied: requests>=2.11.1 in /usr/local/lib/python3.6/dist-packages (from tweepy>=3.7.0->KoNLPy) (2.23.0)\n",
            "Requirement already satisfied: six>=1.10.0 in /usr/local/lib/python3.6/dist-packages (from tweepy>=3.7.0->KoNLPy) (1.12.0)\n",
            "Requirement already satisfied: requests-oauthlib>=0.7.0 in /usr/local/lib/python3.6/dist-packages (from tweepy>=3.7.0->KoNLPy) (1.3.0)\n",
            "Requirement already satisfied: PySocks>=1.5.7 in /usr/local/lib/python3.6/dist-packages (from tweepy>=3.7.0->KoNLPy) (1.7.1)\n",
            "Requirement already satisfied: chardet<4,>=3.0.2 in /usr/local/lib/python3.6/dist-packages (from requests>=2.11.1->tweepy>=3.7.0->KoNLPy) (3.0.4)\n",
            "Requirement already satisfied: idna<3,>=2.5 in /usr/local/lib/python3.6/dist-packages (from requests>=2.11.1->tweepy>=3.7.0->KoNLPy) (2.9)\n",
            "Requirement already satisfied: certifi>=2017.4.17 in /usr/local/lib/python3.6/dist-packages (from requests>=2.11.1->tweepy>=3.7.0->KoNLPy) (2020.4.5.1)\n",
            "Requirement already satisfied: urllib3!=1.25.0,!=1.25.1,<1.26,>=1.21.1 in /usr/local/lib/python3.6/dist-packages (from requests>=2.11.1->tweepy>=3.7.0->KoNLPy) (1.24.3)\n",
            "Requirement already satisfied: oauthlib>=3.0.0 in /usr/local/lib/python3.6/dist-packages (from requests-oauthlib>=0.7.0->tweepy>=3.7.0->KoNLPy) (3.1.0)\n",
            "Installing collected packages: beautifulsoup4, JPype1, tweepy, colorama, KoNLPy\n",
            "  Found existing installation: beautifulsoup4 4.6.3\n",
            "    Uninstalling beautifulsoup4-4.6.3:\n",
            "      Successfully uninstalled beautifulsoup4-4.6.3\n",
            "  Found existing installation: tweepy 3.6.0\n",
            "    Uninstalling tweepy-3.6.0:\n",
            "      Successfully uninstalled tweepy-3.6.0\n",
            "Successfully installed JPype1-0.7.5 KoNLPy-0.5.2 beautifulsoup4-4.6.0 colorama-0.4.3 tweepy-3.8.0\n"
          ],
          "name": "stdout"
        }
      ]
    },
    {
      "cell_type": "code",
      "metadata": {
        "colab_type": "code",
        "id": "shkZRINiZG2q",
        "colab": {}
      },
      "source": [
        "import numpy as np\n",
        "import pandas as pd\n",
        "import re\n",
        "import time\n",
        "import matplotlib.pyplot as plt\n",
        "\n",
        "from konlpy.tag import Okt\n",
        "import tensorflow as tf\n",
        "from tensorflow.keras.preprocessing.text import Tokenizer\n",
        "from tensorflow.keras.preprocessing.sequence import pad_sequences\n",
        "\n",
        "from tensorflow.keras.models import Sequential\n",
        "from tensorflow.keras.layers import Embedding, Bidirectional, Dense, LSTM"
      ],
      "execution_count": 0,
      "outputs": []
    },
    {
      "cell_type": "code",
      "metadata": {
        "colab_type": "code",
        "id": "PBIaLV_xZG2u",
        "outputId": "1d538cc4-31d4-43e1-fef8-85b82d8d5669",
        "colab": {
          "base_uri": "https://localhost:8080/",
          "height": 85
        }
      },
      "source": [
        "DATA_TRAIN_PATH = tf.keras.utils.get_file(\"ratings_train.txt\", \n",
        "                                \"https://github.com/ironmanciti/NLP_lecture/raw/master/data/naver_movie/ratings_train.txt\")\n",
        "DATA_TEST_PATH = tf.keras.utils.get_file(\"ratings_test.txt\", \n",
        "                                \"https://github.com/ironmanciti/NLP_lecture/raw/master/data/naver_movie/ratings_test.txt\")"
      ],
      "execution_count": 4,
      "outputs": [
        {
          "output_type": "stream",
          "text": [
            "Downloading data from https://github.com/ironmanciti/NLP_lecture/raw/master/data/naver_movie/ratings_train.txt\n",
            "14786560/14778808 [==============================] - 0s 0us/step\n",
            "Downloading data from https://github.com/ironmanciti/NLP_lecture/raw/master/data/naver_movie/ratings_test.txt\n",
            "4947968/4943336 [==============================] - 0s 0us/step\n"
          ],
          "name": "stdout"
        }
      ]
    },
    {
      "cell_type": "code",
      "metadata": {
        "colab_type": "code",
        "id": "O2411HrHZG2y",
        "outputId": "11a73b0c-12b9-47c3-ee8b-6b46bdc932b4",
        "colab": {
          "base_uri": "https://localhost:8080/",
          "height": 221
        }
      },
      "source": [
        "train_data = pd.read_csv(DATA_TRAIN_PATH, delimiter='\\t')\n",
        "print(train_data.shape)\n",
        "train_data.head()"
      ],
      "execution_count": 5,
      "outputs": [
        {
          "output_type": "stream",
          "text": [
            "(150000, 3)\n"
          ],
          "name": "stdout"
        },
        {
          "output_type": "execute_result",
          "data": {
            "text/html": [
              "<div>\n",
              "<style scoped>\n",
              "    .dataframe tbody tr th:only-of-type {\n",
              "        vertical-align: middle;\n",
              "    }\n",
              "\n",
              "    .dataframe tbody tr th {\n",
              "        vertical-align: top;\n",
              "    }\n",
              "\n",
              "    .dataframe thead th {\n",
              "        text-align: right;\n",
              "    }\n",
              "</style>\n",
              "<table border=\"1\" class=\"dataframe\">\n",
              "  <thead>\n",
              "    <tr style=\"text-align: right;\">\n",
              "      <th></th>\n",
              "      <th>id</th>\n",
              "      <th>document</th>\n",
              "      <th>label</th>\n",
              "    </tr>\n",
              "  </thead>\n",
              "  <tbody>\n",
              "    <tr>\n",
              "      <th>0</th>\n",
              "      <td>9976970</td>\n",
              "      <td>아 더빙.. 진짜 짜증나네요 목소리</td>\n",
              "      <td>0</td>\n",
              "    </tr>\n",
              "    <tr>\n",
              "      <th>1</th>\n",
              "      <td>3819312</td>\n",
              "      <td>흠...포스터보고 초딩영화줄....오버연기조차 가볍지 않구나</td>\n",
              "      <td>1</td>\n",
              "    </tr>\n",
              "    <tr>\n",
              "      <th>2</th>\n",
              "      <td>10265843</td>\n",
              "      <td>너무재밓었다그래서보는것을추천한다</td>\n",
              "      <td>0</td>\n",
              "    </tr>\n",
              "    <tr>\n",
              "      <th>3</th>\n",
              "      <td>9045019</td>\n",
              "      <td>교도소 이야기구먼 ..솔직히 재미는 없다..평점 조정</td>\n",
              "      <td>0</td>\n",
              "    </tr>\n",
              "    <tr>\n",
              "      <th>4</th>\n",
              "      <td>6483659</td>\n",
              "      <td>사이몬페그의 익살스런 연기가 돋보였던 영화!스파이더맨에서 늙어보이기만 했던 커스틴 ...</td>\n",
              "      <td>1</td>\n",
              "    </tr>\n",
              "  </tbody>\n",
              "</table>\n",
              "</div>"
            ],
            "text/plain": [
              "         id                                           document  label\n",
              "0   9976970                                아 더빙.. 진짜 짜증나네요 목소리      0\n",
              "1   3819312                  흠...포스터보고 초딩영화줄....오버연기조차 가볍지 않구나      1\n",
              "2  10265843                                  너무재밓었다그래서보는것을추천한다      0\n",
              "3   9045019                      교도소 이야기구먼 ..솔직히 재미는 없다..평점 조정      0\n",
              "4   6483659  사이몬페그의 익살스런 연기가 돋보였던 영화!스파이더맨에서 늙어보이기만 했던 커스틴 ...      1"
            ]
          },
          "metadata": {
            "tags": []
          },
          "execution_count": 5
        }
      ]
    },
    {
      "cell_type": "code",
      "metadata": {
        "id": "N-ZwV8eePMhD",
        "colab_type": "code",
        "colab": {
          "base_uri": "https://localhost:8080/",
          "height": 221
        },
        "outputId": "9a97c359-91da-460e-e473-fdad7390eaf9"
      },
      "source": [
        "test_data = pd.read_csv(DATA_TEST_PATH, delimiter='\\t')\n",
        "print(test_data.shape)\n",
        "test_data.head()"
      ],
      "execution_count": 6,
      "outputs": [
        {
          "output_type": "stream",
          "text": [
            "(50000, 3)\n"
          ],
          "name": "stdout"
        },
        {
          "output_type": "execute_result",
          "data": {
            "text/html": [
              "<div>\n",
              "<style scoped>\n",
              "    .dataframe tbody tr th:only-of-type {\n",
              "        vertical-align: middle;\n",
              "    }\n",
              "\n",
              "    .dataframe tbody tr th {\n",
              "        vertical-align: top;\n",
              "    }\n",
              "\n",
              "    .dataframe thead th {\n",
              "        text-align: right;\n",
              "    }\n",
              "</style>\n",
              "<table border=\"1\" class=\"dataframe\">\n",
              "  <thead>\n",
              "    <tr style=\"text-align: right;\">\n",
              "      <th></th>\n",
              "      <th>id</th>\n",
              "      <th>document</th>\n",
              "      <th>label</th>\n",
              "    </tr>\n",
              "  </thead>\n",
              "  <tbody>\n",
              "    <tr>\n",
              "      <th>0</th>\n",
              "      <td>6270596</td>\n",
              "      <td>굳 ㅋ</td>\n",
              "      <td>1</td>\n",
              "    </tr>\n",
              "    <tr>\n",
              "      <th>1</th>\n",
              "      <td>9274899</td>\n",
              "      <td>GDNTOPCLASSINTHECLUB</td>\n",
              "      <td>0</td>\n",
              "    </tr>\n",
              "    <tr>\n",
              "      <th>2</th>\n",
              "      <td>8544678</td>\n",
              "      <td>뭐야 이 평점들은.... 나쁘진 않지만 10점 짜리는 더더욱 아니잖아</td>\n",
              "      <td>0</td>\n",
              "    </tr>\n",
              "    <tr>\n",
              "      <th>3</th>\n",
              "      <td>6825595</td>\n",
              "      <td>지루하지는 않은데 완전 막장임... 돈주고 보기에는....</td>\n",
              "      <td>0</td>\n",
              "    </tr>\n",
              "    <tr>\n",
              "      <th>4</th>\n",
              "      <td>6723715</td>\n",
              "      <td>3D만 아니었어도 별 다섯 개 줬을텐데.. 왜 3D로 나와서 제 심기를 불편하게 하죠??</td>\n",
              "      <td>0</td>\n",
              "    </tr>\n",
              "  </tbody>\n",
              "</table>\n",
              "</div>"
            ],
            "text/plain": [
              "        id                                           document  label\n",
              "0  6270596                                                굳 ㅋ      1\n",
              "1  9274899                               GDNTOPCLASSINTHECLUB      0\n",
              "2  8544678             뭐야 이 평점들은.... 나쁘진 않지만 10점 짜리는 더더욱 아니잖아      0\n",
              "3  6825595                   지루하지는 않은데 완전 막장임... 돈주고 보기에는....      0\n",
              "4  6723715  3D만 아니었어도 별 다섯 개 줬을텐데.. 왜 3D로 나와서 제 심기를 불편하게 하죠??      0"
            ]
          },
          "metadata": {
            "tags": []
          },
          "execution_count": 6
        }
      ]
    },
    {
      "cell_type": "markdown",
      "metadata": {
        "id": "8Gp_l8NxPMhF",
        "colab_type": "text"
      },
      "source": [
        "### 훈련 시간을 감안하여 data size 축소"
      ]
    },
    {
      "cell_type": "code",
      "metadata": {
        "id": "8QV33gPvPMhG",
        "colab_type": "code",
        "colab": {
          "base_uri": "https://localhost:8080/",
          "height": 51
        },
        "outputId": "1a6fd1c0-9343-4b09-fbeb-212ba0d17897"
      },
      "source": [
        "train_data = train_data.sample(n=50000, random_state=1)\n",
        "test_data = test_data.sample(n=5000, random_state=1)\n",
        "\n",
        "print(train_data.shape)\n",
        "print(test_data.shape)"
      ],
      "execution_count": 7,
      "outputs": [
        {
          "output_type": "stream",
          "text": [
            "(50000, 3)\n",
            "(5000, 3)\n"
          ],
          "name": "stdout"
        }
      ]
    },
    {
      "cell_type": "markdown",
      "metadata": {
        "colab_type": "text",
        "id": "k9Unf2JKZG21"
      },
      "source": [
        "**null value 제거**"
      ]
    },
    {
      "cell_type": "code",
      "metadata": {
        "colab_type": "code",
        "id": "BqHf2tAcZG22",
        "outputId": "30297144-84ce-4bdf-ad44-f418d034a0b6",
        "colab": {
          "base_uri": "https://localhost:8080/",
          "height": 187
        }
      },
      "source": [
        "train_data.info()"
      ],
      "execution_count": 8,
      "outputs": [
        {
          "output_type": "stream",
          "text": [
            "<class 'pandas.core.frame.DataFrame'>\n",
            "Int64Index: 50000 entries, 58397 to 71565\n",
            "Data columns (total 3 columns):\n",
            " #   Column    Non-Null Count  Dtype \n",
            "---  ------    --------------  ----- \n",
            " 0   id        50000 non-null  int64 \n",
            " 1   document  49997 non-null  object\n",
            " 2   label     50000 non-null  int64 \n",
            "dtypes: int64(2), object(1)\n",
            "memory usage: 1.5+ MB\n"
          ],
          "name": "stdout"
        }
      ]
    },
    {
      "cell_type": "code",
      "metadata": {
        "colab_type": "code",
        "id": "tfaIt9P_ZG25",
        "colab": {}
      },
      "source": [
        "train_data.dropna(inplace=True)"
      ],
      "execution_count": 0,
      "outputs": []
    },
    {
      "cell_type": "code",
      "metadata": {
        "colab_type": "code",
        "id": "nZPllOWSZG2_",
        "colab": {}
      },
      "source": [
        "test_data.dropna(inplace=True)"
      ],
      "execution_count": 0,
      "outputs": []
    },
    {
      "cell_type": "code",
      "metadata": {
        "colab_type": "code",
        "id": "zGv5Em8zZG3E",
        "outputId": "20d45387-c5e2-4a78-9ec9-219f68899ff1",
        "colab": {
          "base_uri": "https://localhost:8080/",
          "height": 34
        }
      },
      "source": [
        "okt = Okt()\n",
        "test = \"아버지가방에들어가신다\"\n",
        "okt.morphs(test)"
      ],
      "execution_count": 11,
      "outputs": [
        {
          "output_type": "execute_result",
          "data": {
            "text/plain": [
              "['아버지', '가방', '에', '들어가신다']"
            ]
          },
          "metadata": {
            "tags": []
          },
          "execution_count": 11
        }
      ]
    },
    {
      "cell_type": "markdown",
      "metadata": {
        "colab_type": "text",
        "id": "Y-3baFyeZG3H"
      },
      "source": [
        "## Text Data 전처리\n",
        "\n",
        "**한글 문자가 아닌 것 모두 제거**"
      ]
    },
    {
      "cell_type": "code",
      "metadata": {
        "colab_type": "code",
        "id": "HpwrCqOGZG3H",
        "colab": {}
      },
      "source": [
        "def preprocessing(sentence, remove_stopwords=True):\n",
        "    # 불용어 제거\n",
        "    #stop_words = set(['에', '은', '는', '이', '가', '그리고', '것', '들', '수', '등', '로', '을', '를', '만', '도', '아', '의', '그', '다'])\n",
        "    stop_words = []\n",
        "    \n",
        "    sentence = re.sub('\\\\\\\\n', ' ', sentence)              # 개행문자 제거\n",
        "    sentence = re.sub(r'[^가-힣ㄱ-ㅎㅏ-ㅣ\\s]', \"\", sentence)  #한글외에 모두 제거\n",
        "    sentence = okt.morphs(sentence, stem=True)\n",
        "    if remove_stopwords:\n",
        "        sentence = [token for token in sentence if not token in stop_words]\n",
        "    return sentence"
      ],
      "execution_count": 0,
      "outputs": []
    },
    {
      "cell_type": "code",
      "metadata": {
        "colab_type": "code",
        "id": "Qcc0WVspZG3K",
        "outputId": "6a93a666-6c7f-44e3-8f72-d0beeb0f11a2",
        "colab": {
          "base_uri": "https://localhost:8080/",
          "height": 170
        }
      },
      "source": [
        "%%time\n",
        "\n",
        "clean_train = []\n",
        "train_labels = []\n",
        "clean_test = []\n",
        "test_labels = []\n",
        "\n",
        "start = time.time()\n",
        "\n",
        "for i, (sent, label) in enumerate(zip(train_data['document'], train_data['label'])):\n",
        "    if i % 10000 == 0:\n",
        "        print(f\"processed = {i}\")\n",
        "    sent = preprocessing(sent)\n",
        "    if len(sent) > 0:\n",
        "        clean_train.append(sent)\n",
        "        train_labels.append(label)\n",
        "\n",
        "for i, (sent, label) in enumerate(zip(test_data['document'], test_data['label'])):\n",
        "    if i % 10000 == 0:\n",
        "        print(f\"processed = {i}\")\n",
        "    sent = preprocessing(sent)\n",
        "    if len(sent) > 0:\n",
        "        clean_test.append(sent)\n",
        "        test_labels.append(label)\n",
        "    \n",
        "print(time.time() - start)"
      ],
      "execution_count": 13,
      "outputs": [
        {
          "output_type": "stream",
          "text": [
            "processed = 0\n",
            "processed = 10000\n",
            "processed = 20000\n",
            "processed = 30000\n",
            "processed = 40000\n",
            "processed = 0\n",
            "167.23960137367249\n",
            "CPU times: user 2min 57s, sys: 529 ms, total: 2min 58s\n",
            "Wall time: 2min 47s\n"
          ],
          "name": "stdout"
        }
      ]
    },
    {
      "cell_type": "code",
      "metadata": {
        "colab_type": "code",
        "id": "FzVDFMlyZG3M",
        "outputId": "9bd12c7e-2c5b-4ce2-ee9a-45adb0375403",
        "colab": {
          "base_uri": "https://localhost:8080/",
          "height": 85
        }
      },
      "source": [
        "print(len(clean_train))\n",
        "print(len(train_labels))\n",
        "print(len(clean_test))\n",
        "print(len(test_labels))"
      ],
      "execution_count": 14,
      "outputs": [
        {
          "output_type": "stream",
          "text": [
            "49571\n",
            "49571\n",
            "4951\n",
            "4951\n"
          ],
          "name": "stdout"
        }
      ]
    },
    {
      "cell_type": "code",
      "metadata": {
        "colab_type": "code",
        "id": "GNXrKsQVZG3Q",
        "colab": {}
      },
      "source": [
        "VOCAB_SIZE = 20000\n",
        "\n",
        "tokenizer = Tokenizer(num_words=VOCAB_SIZE, oov_token=\"<OOV>\")\n",
        "tokenizer.fit_on_texts(clean_train)\n",
        "\n",
        "train_sequences = tokenizer.texts_to_sequences(clean_train)\n",
        "test_sequences = tokenizer.texts_to_sequences(clean_test)"
      ],
      "execution_count": 0,
      "outputs": []
    },
    {
      "cell_type": "code",
      "metadata": {
        "colab_type": "code",
        "id": "4Ojq-MT9ZG3V",
        "outputId": "efbc4310-925f-4f83-ffd4-44e431a9a47c",
        "colab": {
          "base_uri": "https://localhost:8080/",
          "height": 88
        }
      },
      "source": [
        "print(train_sequences[:5])\n",
        "print()\n",
        "print(test_sequences[:5])"
      ],
      "execution_count": 16,
      "outputs": [
        {
          "output_type": "stream",
          "text": [
            "[[90, 1370, 13, 1554, 80, 520, 8870, 14637, 29, 250, 5, 3884, 16, 430, 62, 210, 30, 1612, 14, 744, 22, 229, 6, 1123, 13, 31, 43, 12, 149, 2547, 5, 741, 12, 1554, 14638, 6007, 8871, 8872, 8, 31], [50, 4, 86, 21, 79, 466, 2263, 10, 57, 264], [629, 36, 10866, 53, 37, 165, 264, 9, 447, 385, 3, 349, 26, 7, 1842, 2, 765], [1283, 3, 479, 431, 163, 490, 77, 578, 13, 18, 3, 16], [458, 3885, 8, 2142, 63, 80, 35, 58, 446, 3, 10, 268, 9, 98, 4]]\n",
            "\n",
            "[[1683, 7, 460, 1491, 106, 346, 37, 2485, 344, 760, 206, 650, 96, 270], [148, 4, 23, 111, 182, 13, 40, 2, 887, 84, 70], [107, 993, 3491, 102, 552, 654, 3, 505, 684, 596, 478], [101, 4, 3, 8, 31], [349, 26, 7, 480, 22, 378, 179, 731, 271, 607, 163, 238]]\n"
          ],
          "name": "stdout"
        }
      ]
    },
    {
      "cell_type": "code",
      "metadata": {
        "colab_type": "code",
        "id": "PgeXyNmfdYO9",
        "outputId": "9bb66d25-1370-4601-8c05-1536871b849b",
        "colab": {
          "base_uri": "https://localhost:8080/",
          "height": 299
        }
      },
      "source": [
        "print('sample max length : {}'.format(max(len(s) for s in clean_train)))\n",
        "print('sample mean length: {:.0f}'.format(np.mean([len(s) for s in clean_train])))\n",
        "\n",
        "plt.hist([len(s) for s in clean_train]);"
      ],
      "execution_count": 17,
      "outputs": [
        {
          "output_type": "stream",
          "text": [
            "sample max length : 78\n",
            "sample mean length: 13\n"
          ],
          "name": "stdout"
        },
        {
          "output_type": "display_data",
          "data": {
            "image/png": "[encoded data removed]",
            "text/plain": [
              "<Figure size 432x288 with 1 Axes>"
            ]
          },
          "metadata": {
            "tags": [],
            "needs_background": "light"
          }
        }
      ]
    },
    {
      "cell_type": "code",
      "metadata": {
        "colab_type": "code",
        "id": "eMm_-YoLZG3X",
        "colab": {}
      },
      "source": [
        "MAX_SEQUENCE_LENGTH = 15"
      ],
      "execution_count": 0,
      "outputs": []
    },
    {
      "cell_type": "code",
      "metadata": {
        "colab_type": "code",
        "id": "owqiPD1uZG3Z",
        "outputId": "521b2207-6d08-4a76-8ddc-bd9bb368b32b",
        "colab": {
          "base_uri": "https://localhost:8080/",
          "height": 34
        }
      },
      "source": [
        "train_inputs = pad_sequences(train_sequences, \n",
        "                                             maxlen=MAX_SEQUENCE_LENGTH,\n",
        "                                             padding='post', truncating='post')\n",
        "train_labels = np.array(train_labels)\n",
        "\n",
        "test_inputs = pad_sequences(test_sequences, \n",
        "                                             maxlen=MAX_SEQUENCE_LENGTH,\n",
        "                                             padding='post', truncating='post')\n",
        "test_labels = np.array(test_labels)\n",
        "\n",
        "len(train_inputs), len(train_labels), len(test_inputs), len(test_labels)"
      ],
      "execution_count": 19,
      "outputs": [
        {
          "output_type": "execute_result",
          "data": {
            "text/plain": [
              "(49571, 49571, 4951, 4951)"
            ]
          },
          "metadata": {
            "tags": []
          },
          "execution_count": 19
        }
      ]
    },
    {
      "cell_type": "code",
      "metadata": {
        "colab_type": "code",
        "id": "Ct65K3gSZG3c",
        "outputId": "e7849bad-62f2-4b65-c0f8-a1c4a7ad6b9b",
        "colab": {
          "base_uri": "https://localhost:8080/",
          "height": 374
        }
      },
      "source": [
        "print(train_inputs[:5])\n",
        "print()\n",
        "print(test_inputs[:5])"
      ],
      "execution_count": 20,
      "outputs": [
        {
          "output_type": "stream",
          "text": [
            "[[   90  1370    13  1554    80   520  8870 14637    29   250     5  3884\n",
            "     16   430    62]\n",
            " [   50     4    86    21    79   466  2263    10    57   264     0     0\n",
            "      0     0     0]\n",
            " [  629    36 10866    53    37   165   264     9   447   385     3   349\n",
            "     26     7  1842]\n",
            " [ 1283     3   479   431   163   490    77   578    13    18     3    16\n",
            "      0     0     0]\n",
            " [  458  3885     8  2142    63    80    35    58   446     3    10   268\n",
            "      9    98     4]]\n",
            "\n",
            "[[1683    7  460 1491  106  346   37 2485  344  760  206  650   96  270\n",
            "     0]\n",
            " [ 148    4   23  111  182   13   40    2  887   84   70    0    0    0\n",
            "     0]\n",
            " [ 107  993 3491  102  552  654    3  505  684  596  478    0    0    0\n",
            "     0]\n",
            " [ 101    4    3    8   31    0    0    0    0    0    0    0    0    0\n",
            "     0]\n",
            " [ 349   26    7  480   22  378  179  731  271  607  163  238    0    0\n",
            "     0]]\n"
          ],
          "name": "stdout"
        }
      ]
    },
    {
      "cell_type": "markdown",
      "metadata": {
        "colab_type": "text",
        "id": "_XW692THZG3f"
      },
      "source": [
        "### sequence 를 다시 문장으로 역변환"
      ]
    },
    {
      "cell_type": "code",
      "metadata": {
        "colab_type": "code",
        "id": "bP6ea-ZYZG3f",
        "outputId": "d243ae09-41b8-4dc5-9150-ef17f11425b3",
        "colab": {
          "base_uri": "https://localhost:8080/",
          "height": 34
        }
      },
      "source": [
        "reverse_word_index = dict([(v, k) for (k, v) in tokenizer.word_index.items()])\n",
        "\n",
        "def decode_sentence(text):\n",
        "    return ' '.join([reverse_word_index.get(i, '?') for i in text])\n",
        "\n",
        "print(decode_sentence(train_inputs[300]))"
      ],
      "execution_count": 24,
      "outputs": [
        {
          "output_type": "stream",
          "text": [
            "여전하다 매력 적 인 선장 잭 스패 로우 덕 에 탄력 받다 시리즈 ? ?\n"
          ],
          "name": "stdout"
        }
      ]
    },
    {
      "cell_type": "code",
      "metadata": {
        "colab_type": "code",
        "id": "4gbHh9M9ZG3h",
        "outputId": "41615a98-6d23-401a-bc52-1fc652c9cfa2",
        "colab": {
          "base_uri": "https://localhost:8080/",
          "height": 289
        }
      },
      "source": [
        "model = Sequential([\n",
        "    Embedding(VOCAB_SIZE+1, 64),\n",
        "    Bidirectional(LSTM(64)),\n",
        "    Dense(32, activation='relu'),\n",
        "    Dense(1, activation='sigmoid')\n",
        "])\n",
        "\n",
        "model.compile(loss='binary_crossentropy', optimizer='adam', metrics=['accuracy'])\n",
        "model.summary()"
      ],
      "execution_count": 22,
      "outputs": [
        {
          "output_type": "stream",
          "text": [
            "Model: \"sequential\"\n",
            "_________________________________________________________________\n",
            "Layer (type)                 Output Shape              Param #   \n",
            "=================================================================\n",
            "embedding (Embedding)        (None, None, 64)          1280064   \n",
            "_________________________________________________________________\n",
            "bidirectional (Bidirectional (None, 128)               66048     \n",
            "_________________________________________________________________\n",
            "dense (Dense)                (None, 32)                4128      \n",
            "_________________________________________________________________\n",
            "dense_1 (Dense)              (None, 1)                 33        \n",
            "=================================================================\n",
            "Total params: 1,350,273\n",
            "Trainable params: 1,350,273\n",
            "Non-trainable params: 0\n",
            "_________________________________________________________________\n"
          ],
          "name": "stdout"
        }
      ]
    },
    {
      "cell_type": "code",
      "metadata": {
        "colab_type": "code",
        "id": "JrmVSpkrZG3j",
        "outputId": "6da33127-b2b8-4579-8b7a-1e3b2d3bdeb2",
        "colab": {
          "base_uri": "https://localhost:8080/",
          "height": 187
        }
      },
      "source": [
        "num_epochs = 5\n",
        "history = model.fit(train_inputs, train_labels, epochs=num_epochs,\n",
        "                           batch_size=128, validation_data=(test_inputs, test_labels),\n",
        "                           verbose=1)"
      ],
      "execution_count": 25,
      "outputs": [
        {
          "output_type": "stream",
          "text": [
            "Epoch 1/5\n",
            "388/388 [==============================] - 7s 18ms/step - loss: 0.4524 - accuracy: 0.7790 - val_loss: 0.4037 - val_accuracy: 0.8182\n",
            "Epoch 2/5\n",
            "388/388 [==============================] - 6s 16ms/step - loss: 0.3260 - accuracy: 0.8605 - val_loss: 0.4069 - val_accuracy: 0.8180\n",
            "Epoch 3/5\n",
            "388/388 [==============================] - 6s 16ms/step - loss: 0.2621 - accuracy: 0.8892 - val_loss: 0.4404 - val_accuracy: 0.8202\n",
            "Epoch 4/5\n",
            "388/388 [==============================] - 6s 16ms/step - loss: 0.2120 - accuracy: 0.9108 - val_loss: 0.4965 - val_accuracy: 0.8190\n",
            "Epoch 5/5\n",
            "388/388 [==============================] - 6s 16ms/step - loss: 0.1770 - accuracy: 0.9255 - val_loss: 0.5410 - val_accuracy: 0.8107\n"
          ],
          "name": "stdout"
        }
      ]
    },
    {
      "cell_type": "code",
      "metadata": {
        "colab_type": "code",
        "id": "xcczXSVmZG3l",
        "outputId": "95166df6-30a0-48c2-99b3-44be783fd7d0",
        "colab": {
          "base_uri": "https://localhost:8080/",
          "height": 279
        }
      },
      "source": [
        "fig, (ax1, ax2) = plt.subplots(1, 2, figsize=(12, 4))\n",
        "\n",
        "ax1.plot(history.history['accuracy'])\n",
        "ax1.plot(history.history['val_accuracy'])\n",
        "ax1.set_xlabel('Epochs')\n",
        "ax1.set_ylabel('accuracy')\n",
        "ax1.legend(['accuarcy', 'val_accuracy'])\n",
        "\n",
        "ax2.plot(history.history['loss'])\n",
        "ax2.plot(history.history['val_loss'])\n",
        "ax2.set_xlabel('Epochs')\n",
        "ax2.set_ylabel('loss')\n",
        "ax2.legend(['loss', 'val_loss'])\n",
        "plt.show()"
      ],
      "execution_count": 26,
      "outputs": [
        {
          "output_type": "display_data",
          "data": {
            "image/png": "[encoded data removed]",
            "text/plain": [
              "<Figure size 864x288 with 2 Axes>"
            ]
          },
          "metadata": {
            "tags": [],
            "needs_background": "light"
          }
        }
      ]
    },
    {
      "cell_type": "code",
      "metadata": {
        "colab_type": "code",
        "id": "50BvfYqWZG3n",
        "outputId": "d33a34cf-dc59-413a-94ce-7704417cf11c",
        "colab": {
          "base_uri": "https://localhost:8080/",
          "height": 51
        }
      },
      "source": [
        "#sample_text = ['이 영화는 정말 짜증나서 못 보겠다']\n",
        "sample_text = ['이렇게 감동적인 영화는 정말 간만이다']\n",
        "sample_seq = tokenizer.texts_to_sequences(sample_text)\n",
        "sample_padded = pad_sequences(sample_seq, maxlen=MAX_SEQUENCE_LENGTH, padding='post')\n",
        "sample_padded"
      ],
      "execution_count": 27,
      "outputs": [
        {
          "output_type": "execute_result",
          "data": {
            "text/plain": [
              "array([[115,   1,   1,  21,   1,   0,   0,   0,   0,   0,   0,   0,   0,\n",
              "          0,   0]], dtype=int32)"
            ]
          },
          "metadata": {
            "tags": []
          },
          "execution_count": 27
        }
      ]
    },
    {
      "cell_type": "code",
      "metadata": {
        "colab_type": "code",
        "id": "mUfmxNgfZG3p",
        "outputId": "55be9a6a-cf85-42dd-cb29-a800cacafa6b",
        "colab": {
          "base_uri": "https://localhost:8080/",
          "height": 34
        }
      },
      "source": [
        "model.predict([sample_padded])"
      ],
      "execution_count": 28,
      "outputs": [
        {
          "output_type": "execute_result",
          "data": {
            "text/plain": [
              "array([[0.7893692]], dtype=float32)"
            ]
          },
          "metadata": {
            "tags": []
          },
          "execution_count": 28
        }
      ]
    },
    {
      "cell_type": "code",
      "metadata": {
        "colab_type": "code",
        "id": "EXYfTlWUgjBj",
        "colab": {}
      },
      "source": [
        ""
      ],
      "execution_count": 0,
      "outputs": []
    }
  ]
}