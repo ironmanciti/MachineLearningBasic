{
  "nbformat": 4,
  "nbformat_minor": 0,
  "metadata": {
    "kernelspec": {
      "display_name": "Python 3",
      "language": "python",
      "name": "python3"
    },
    "language_info": {
      "codemirror_mode": {
        "name": "ipython",
        "version": 3
      },
      "file_extension": ".py",
      "mimetype": "text/x-python",
      "name": "python",
      "nbconvert_exporter": "python",
      "pygments_lexer": "ipython3",
      "version": "3.7.6"
    },
    "colab": {
      "name": "110.Mnist_Dense.ipynb",
      "provenance": []
    },
    "accelerator": "GPU"
  },
  "cells": [
    {
      "cell_type": "markdown",
      "metadata": {
        "id": "DNP7CcWhu2rQ",
        "colab_type": "text"
      },
      "source": [
        "# 110.mnist dataset 손글씨 인식 - Basic Fully Connected Layer"
      ]
    },
    {
      "cell_type": "code",
      "metadata": {
        "id": "M1MayjSNu2rS",
        "colab_type": "code",
        "colab": {}
      },
      "source": [
        "import numpy as np\n",
        "import matplotlib.pyplot as plt\n",
        "\n",
        "import tensorflow as tf\n",
        "from tensorflow.keras import layers\n",
        "\n",
        "np.random.seed(102)"
      ],
      "execution_count": 0,
      "outputs": []
    },
    {
      "cell_type": "code",
      "metadata": {
        "id": "sjEfC-Hgu2rV",
        "colab_type": "code",
        "colab": {}
      },
      "source": [
        "# load mnist data\n",
        "(X_train, y_train), (X_test, y_test) = tf.keras.datasets.mnist.load_data()"
      ],
      "execution_count": 0,
      "outputs": []
    },
    {
      "cell_type": "code",
      "metadata": {
        "id": "uFmAZyYGu2rY",
        "colab_type": "code",
        "colab": {
          "base_uri": "https://localhost:8080/",
          "height": 89
        },
        "outputId": "03d32525-32fc-4ee8-8d64-404c47257808"
      },
      "source": [
        "print(X_train.shape)\n",
        "print(y_train.shape)\n",
        "print(X_test.shape)\n",
        "print(y_test.shape)"
      ],
      "execution_count": 3,
      "outputs": [
        {
          "output_type": "stream",
          "text": [
            "(60000, 28, 28)\n",
            "(60000,)\n",
            "(10000, 28, 28)\n",
            "(10000,)\n"
          ],
          "name": "stdout"
        }
      ]
    },
    {
      "cell_type": "code",
      "metadata": {
        "id": "YHz1Gfc6u2rc",
        "colab_type": "code",
        "colab": {
          "base_uri": "https://localhost:8080/",
          "height": 71
        },
        "outputId": "0d016e40-27f5-4180-c47c-833f91372a8e"
      },
      "source": [
        "X_train[0][15]"
      ],
      "execution_count": 4,
      "outputs": [
        {
          "output_type": "execute_result",
          "data": {
            "text/plain": [
              "array([  0,   0,   0,   0,   0,   0,   0,   0,   0,   0,   0,   0,   0,\n",
              "         0,  45, 186, 253, 253, 150,  27,   0,   0,   0,   0,   0,   0,\n",
              "         0,   0], dtype=uint8)"
            ]
          },
          "metadata": {
            "tags": []
          },
          "execution_count": 4
        }
      ]
    },
    {
      "cell_type": "code",
      "metadata": {
        "id": "FEtMrMW-u2rh",
        "colab_type": "code",
        "colab": {
          "base_uri": "https://localhost:8080/",
          "height": 513
        },
        "outputId": "52041e21-f3ec-465d-be49-4e5eaaf0a749"
      },
      "source": [
        "plt.figure(figsize=(7 ,7))\n",
        "\n",
        "for i in range(9):\n",
        "    plt.subplot(3, 3, i+1)\n",
        "    plt.imshow(X_train[i], cmap='gray', interpolation='none')\n",
        "    plt.title(\"Class {}\".format(y_train[i]))\n",
        "    plt.tight_layout()\n",
        "\n",
        "plt.show()"
      ],
      "execution_count": 5,
      "outputs": [
        {
          "output_type": "display_data",
          "data": {
            "image/png": "[encoded data removed]",
            "text/plain": [
              "<Figure size 504x504 with 9 Axes>"
            ]
          },
          "metadata": {
            "tags": [],
            "needs_background": "light"
          }
        }
      ]
    },
    {
      "cell_type": "markdown",
      "metadata": {
        "id": "3empuyg4u2rj",
        "colab_type": "text"
      },
      "source": [
        "## Dense layer 의 input 으로 만들기 위해 28 X 28 을 784 로 flatten"
      ]
    },
    {
      "cell_type": "code",
      "metadata": {
        "id": "x6ndHeC_u2rk",
        "colab_type": "code",
        "colab": {
          "base_uri": "https://localhost:8080/",
          "height": 89
        },
        "outputId": "d401c680-03d8-452e-c593-0e52e1c0162c"
      },
      "source": [
        "X_train_scaled = X_train / 255.\n",
        "X_test_scaled = X_test / 255.\n",
        "\n",
        "X_train_scaled = X_train_scaled.reshape(-1, 784).astype(\"float32\")\n",
        "X_test_scaled  = X_test_scaled.reshape(-1, 784).astype(\"float32\")\n",
        "\n",
        "print(X_train_scaled.shape)\n",
        "print(X_test_scaled.shape)\n",
        "print(y_train.shape)\n",
        "print(y_test.shape)"
      ],
      "execution_count": 6,
      "outputs": [
        {
          "output_type": "stream",
          "text": [
            "(60000, 784)\n",
            "(10000, 784)\n",
            "(60000,)\n",
            "(10000,)\n"
          ],
          "name": "stdout"
        }
      ]
    },
    {
      "cell_type": "markdown",
      "metadata": {
        "id": "P3eXRMvXu2ro",
        "colab_type": "text"
      },
      "source": [
        "## Target label 을 one-hot format, i.e.\n",
        "\n",
        "0 -> [1, 0, 0, 0, 0, 0, 0, 0, 0]  \n",
        "1 -> [0, 1, 0, 0, 0, 0, 0, 0, 0]  \n",
        "2 -> [0, 0, 1, 0, 0, 0, 0, 0, 0]  \n",
        "etc."
      ]
    },
    {
      "cell_type": "code",
      "metadata": {
        "id": "wdwzpKyuu2rq",
        "colab_type": "code",
        "colab": {
          "base_uri": "https://localhost:8080/",
          "height": 53
        },
        "outputId": "e6e51f6e-e042-4f62-8f41-b7fc394a9a2c"
      },
      "source": [
        "y_train_onehot = tf.keras.utils.to_categorical(y_train)\n",
        "y_test_onehot = tf.keras.utils.to_categorical(y_test)\n",
        "\n",
        "print(y_train_onehot.shape)\n",
        "print(y_test_onehot.shape)"
      ],
      "execution_count": 7,
      "outputs": [
        {
          "output_type": "stream",
          "text": [
            "(60000, 10)\n",
            "(10000, 10)\n"
          ],
          "name": "stdout"
        }
      ]
    },
    {
      "cell_type": "markdown",
      "metadata": {
        "id": "a6D4cU1tu2rw",
        "colab_type": "text"
      },
      "source": [
        "## tf.data 를 이용한 shuffling and batch 구성"
      ]
    },
    {
      "cell_type": "code",
      "metadata": {
        "id": "7ZA8AJHju2rx",
        "colab_type": "code",
        "colab": {}
      },
      "source": [
        "BATCH_SIZE = 128\n",
        "\n",
        "train_ds = tf.data.Dataset.from_tensor_slices((X_train_scaled, y_train_onehot)).shuffle(10000).batch(BATCH_SIZE)\n",
        "test_ds = tf.data.Dataset.from_tensor_slices((X_test_scaled, y_test_onehot)).batch(BATCH_SIZE)"
      ],
      "execution_count": 0,
      "outputs": []
    },
    {
      "cell_type": "code",
      "metadata": {
        "id": "98dAO7-ru2r2",
        "colab_type": "code",
        "colab": {
          "base_uri": "https://localhost:8080/",
          "height": 35
        },
        "outputId": "3dd6d8ec-8cdb-4e91-d491-b7a0684939c0"
      },
      "source": [
        "for input, label in train_ds.take(1):\n",
        "    print(input.shape, label.shape)"
      ],
      "execution_count": 9,
      "outputs": [
        {
          "output_type": "stream",
          "text": [
            "(128, 784) (128, 10)\n"
          ],
          "name": "stdout"
        }
      ]
    },
    {
      "cell_type": "code",
      "metadata": {
        "id": "l9RnfQcau2r8",
        "colab_type": "code",
        "colab": {}
      },
      "source": [
        "N_NEURONS = 128\n",
        "DROPOUT = 0.2\n",
        "EPOCHS = 50"
      ],
      "execution_count": 0,
      "outputs": []
    },
    {
      "cell_type": "code",
      "metadata": {
        "id": "1h_FHwW9u2sC",
        "colab_type": "code",
        "colab": {}
      },
      "source": [
        "# 2 : Hidden Layers\n",
        "model = tf.keras.Sequential()\n",
        "model.add(layers.Dense(N_NEURONS, input_shape=(784,)))\n",
        "model.add(layers.Activation('relu'))\n",
        "model.add(layers.Dropout(DROPOUT))\n",
        "\n",
        "model.add(layers.Dense(N_NEURONS))\n",
        "model.add(layers.Activation('relu'))\n",
        "model.add(layers.Dropout(DROPOUT))\n",
        "\n",
        "model.add(layers.Dense(10))\n",
        "model.add(layers.Activation('softmax'))"
      ],
      "execution_count": 0,
      "outputs": []
    },
    {
      "cell_type": "code",
      "metadata": {
        "id": "QO4QuTSzu2sI",
        "colab_type": "code",
        "colab": {
          "base_uri": "https://localhost:8080/",
          "height": 447
        },
        "outputId": "f727a7fc-c659-4e3b-8855-6df1d68ec3b0"
      },
      "source": [
        "model.summary()"
      ],
      "execution_count": 12,
      "outputs": [
        {
          "output_type": "stream",
          "text": [
            "Model: \"sequential\"\n",
            "_________________________________________________________________\n",
            "Layer (type)                 Output Shape              Param #   \n",
            "=================================================================\n",
            "dense (Dense)                (None, 128)               100480    \n",
            "_________________________________________________________________\n",
            "activation (Activation)      (None, 128)               0         \n",
            "_________________________________________________________________\n",
            "dropout (Dropout)            (None, 128)               0         \n",
            "_________________________________________________________________\n",
            "dense_1 (Dense)              (None, 128)               16512     \n",
            "_________________________________________________________________\n",
            "activation_1 (Activation)    (None, 128)               0         \n",
            "_________________________________________________________________\n",
            "dropout_1 (Dropout)          (None, 128)               0         \n",
            "_________________________________________________________________\n",
            "dense_2 (Dense)              (None, 10)                1290      \n",
            "_________________________________________________________________\n",
            "activation_2 (Activation)    (None, 10)                0         \n",
            "=================================================================\n",
            "Total params: 118,282\n",
            "Trainable params: 118,282\n",
            "Non-trainable params: 0\n",
            "_________________________________________________________________\n"
          ],
          "name": "stdout"
        }
      ]
    },
    {
      "cell_type": "code",
      "metadata": {
        "id": "gRJdl8Z6u2sM",
        "colab_type": "code",
        "colab": {}
      },
      "source": [
        "model.compile(loss='categorical_crossentropy', optimizer='adam', metrics=[\"accuracy\"])"
      ],
      "execution_count": 0,
      "outputs": []
    },
    {
      "cell_type": "code",
      "metadata": {
        "scrolled": false,
        "id": "o9EjN5Vdu2sQ",
        "colab_type": "code",
        "colab": {
          "base_uri": "https://localhost:8080/",
          "height": 1000
        },
        "outputId": "a5b3c0dc-062f-48a4-d76c-24064a3293f9"
      },
      "source": [
        "import time\n",
        "st = time.time()\n",
        "\n",
        "history = model.fit(train_ds, epochs=EPOCHS, verbose=1, validation_data=test_ds)\n",
        "\n",
        "et = time.time()\n",
        "print(et - st)"
      ],
      "execution_count": 14,
      "outputs": [
        {
          "output_type": "stream",
          "text": [
            "Epoch 1/50\n",
            "469/469 [==============================] - 2s 4ms/step - loss: 0.4118 - accuracy: 0.8762 - val_loss: 0.1665 - val_accuracy: 0.9496\n",
            "Epoch 2/50\n",
            "469/469 [==============================] - 2s 4ms/step - loss: 0.1770 - accuracy: 0.9477 - val_loss: 0.1123 - val_accuracy: 0.9660\n",
            "Epoch 3/50\n",
            "469/469 [==============================] - 2s 4ms/step - loss: 0.1328 - accuracy: 0.9598 - val_loss: 0.0950 - val_accuracy: 0.9713\n",
            "Epoch 4/50\n",
            "469/469 [==============================] - 2s 4ms/step - loss: 0.1096 - accuracy: 0.9670 - val_loss: 0.0837 - val_accuracy: 0.9739\n",
            "Epoch 5/50\n",
            "469/469 [==============================] - 2s 4ms/step - loss: 0.0945 - accuracy: 0.9707 - val_loss: 0.0844 - val_accuracy: 0.9735\n",
            "Epoch 6/50\n",
            "469/469 [==============================] - 2s 4ms/step - loss: 0.0838 - accuracy: 0.9741 - val_loss: 0.0703 - val_accuracy: 0.9781\n",
            "Epoch 7/50\n",
            "469/469 [==============================] - 2s 4ms/step - loss: 0.0734 - accuracy: 0.9766 - val_loss: 0.0745 - val_accuracy: 0.9769\n",
            "Epoch 8/50\n",
            "469/469 [==============================] - 2s 4ms/step - loss: 0.0663 - accuracy: 0.9785 - val_loss: 0.0684 - val_accuracy: 0.9790\n",
            "Epoch 9/50\n",
            "469/469 [==============================] - 2s 4ms/step - loss: 0.0622 - accuracy: 0.9798 - val_loss: 0.0724 - val_accuracy: 0.9794\n",
            "Epoch 10/50\n",
            "469/469 [==============================] - 2s 4ms/step - loss: 0.0582 - accuracy: 0.9807 - val_loss: 0.0677 - val_accuracy: 0.9804\n",
            "Epoch 11/50\n",
            "469/469 [==============================] - 2s 4ms/step - loss: 0.0530 - accuracy: 0.9829 - val_loss: 0.0679 - val_accuracy: 0.9799\n",
            "Epoch 12/50\n",
            "469/469 [==============================] - 2s 4ms/step - loss: 0.0489 - accuracy: 0.9837 - val_loss: 0.0684 - val_accuracy: 0.9805\n",
            "Epoch 13/50\n",
            "469/469 [==============================] - 2s 4ms/step - loss: 0.0478 - accuracy: 0.9843 - val_loss: 0.0643 - val_accuracy: 0.9804\n",
            "Epoch 14/50\n",
            "469/469 [==============================] - 2s 4ms/step - loss: 0.0447 - accuracy: 0.9850 - val_loss: 0.0633 - val_accuracy: 0.9826\n",
            "Epoch 15/50\n",
            "469/469 [==============================] - 2s 4ms/step - loss: 0.0427 - accuracy: 0.9865 - val_loss: 0.0637 - val_accuracy: 0.9814\n",
            "Epoch 16/50\n",
            "469/469 [==============================] - 2s 4ms/step - loss: 0.0403 - accuracy: 0.9866 - val_loss: 0.0676 - val_accuracy: 0.9810\n",
            "Epoch 17/50\n",
            "469/469 [==============================] - 2s 4ms/step - loss: 0.0393 - accuracy: 0.9867 - val_loss: 0.0650 - val_accuracy: 0.9821\n",
            "Epoch 18/50\n",
            "469/469 [==============================] - 2s 4ms/step - loss: 0.0363 - accuracy: 0.9883 - val_loss: 0.0643 - val_accuracy: 0.9817\n",
            "Epoch 19/50\n",
            "469/469 [==============================] - 2s 4ms/step - loss: 0.0346 - accuracy: 0.9886 - val_loss: 0.0683 - val_accuracy: 0.9813\n",
            "Epoch 20/50\n",
            "469/469 [==============================] - 2s 4ms/step - loss: 0.0346 - accuracy: 0.9883 - val_loss: 0.0685 - val_accuracy: 0.9806\n",
            "Epoch 21/50\n",
            "469/469 [==============================] - 2s 4ms/step - loss: 0.0317 - accuracy: 0.9898 - val_loss: 0.0635 - val_accuracy: 0.9831\n",
            "Epoch 22/50\n",
            "469/469 [==============================] - 2s 4ms/step - loss: 0.0306 - accuracy: 0.9897 - val_loss: 0.0709 - val_accuracy: 0.9822\n",
            "Epoch 23/50\n",
            "469/469 [==============================] - 2s 4ms/step - loss: 0.0309 - accuracy: 0.9895 - val_loss: 0.0631 - val_accuracy: 0.9829\n",
            "Epoch 24/50\n",
            "469/469 [==============================] - 2s 4ms/step - loss: 0.0297 - accuracy: 0.9904 - val_loss: 0.0695 - val_accuracy: 0.9814\n",
            "Epoch 25/50\n",
            "469/469 [==============================] - 2s 4ms/step - loss: 0.0280 - accuracy: 0.9902 - val_loss: 0.0704 - val_accuracy: 0.9826\n",
            "Epoch 26/50\n",
            "469/469 [==============================] - 2s 4ms/step - loss: 0.0261 - accuracy: 0.9913 - val_loss: 0.0679 - val_accuracy: 0.9833\n",
            "Epoch 27/50\n",
            "469/469 [==============================] - 2s 4ms/step - loss: 0.0267 - accuracy: 0.9909 - val_loss: 0.0679 - val_accuracy: 0.9820\n",
            "Epoch 28/50\n",
            "469/469 [==============================] - 2s 4ms/step - loss: 0.0264 - accuracy: 0.9908 - val_loss: 0.0719 - val_accuracy: 0.9823\n",
            "Epoch 29/50\n",
            "469/469 [==============================] - 2s 4ms/step - loss: 0.0256 - accuracy: 0.9911 - val_loss: 0.0753 - val_accuracy: 0.9812\n",
            "Epoch 30/50\n",
            "469/469 [==============================] - 2s 4ms/step - loss: 0.0243 - accuracy: 0.9915 - val_loss: 0.0773 - val_accuracy: 0.9819\n",
            "Epoch 31/50\n",
            "469/469 [==============================] - 2s 4ms/step - loss: 0.0242 - accuracy: 0.9916 - val_loss: 0.0730 - val_accuracy: 0.9818\n",
            "Epoch 32/50\n",
            "469/469 [==============================] - 2s 4ms/step - loss: 0.0225 - accuracy: 0.9920 - val_loss: 0.0713 - val_accuracy: 0.9822\n",
            "Epoch 33/50\n",
            "469/469 [==============================] - 2s 4ms/step - loss: 0.0230 - accuracy: 0.9920 - val_loss: 0.0822 - val_accuracy: 0.9818\n",
            "Epoch 34/50\n",
            "469/469 [==============================] - 2s 4ms/step - loss: 0.0254 - accuracy: 0.9915 - val_loss: 0.0779 - val_accuracy: 0.9822\n",
            "Epoch 35/50\n",
            "469/469 [==============================] - 2s 4ms/step - loss: 0.0221 - accuracy: 0.9928 - val_loss: 0.0847 - val_accuracy: 0.9810\n",
            "Epoch 36/50\n",
            "469/469 [==============================] - 2s 4ms/step - loss: 0.0241 - accuracy: 0.9918 - val_loss: 0.0740 - val_accuracy: 0.9833\n",
            "Epoch 37/50\n",
            "469/469 [==============================] - 2s 4ms/step - loss: 0.0233 - accuracy: 0.9923 - val_loss: 0.0725 - val_accuracy: 0.9817\n",
            "Epoch 38/50\n",
            "469/469 [==============================] - 2s 4ms/step - loss: 0.0230 - accuracy: 0.9923 - val_loss: 0.0767 - val_accuracy: 0.9823\n",
            "Epoch 39/50\n",
            "469/469 [==============================] - 2s 4ms/step - loss: 0.0221 - accuracy: 0.9924 - val_loss: 0.0808 - val_accuracy: 0.9822\n",
            "Epoch 40/50\n",
            "469/469 [==============================] - 2s 4ms/step - loss: 0.0202 - accuracy: 0.9930 - val_loss: 0.0799 - val_accuracy: 0.9815\n",
            "Epoch 41/50\n",
            "469/469 [==============================] - 2s 4ms/step - loss: 0.0213 - accuracy: 0.9929 - val_loss: 0.0822 - val_accuracy: 0.9808\n",
            "Epoch 42/50\n",
            "469/469 [==============================] - 2s 4ms/step - loss: 0.0212 - accuracy: 0.9933 - val_loss: 0.0768 - val_accuracy: 0.9825\n",
            "Epoch 43/50\n",
            "469/469 [==============================] - 2s 4ms/step - loss: 0.0216 - accuracy: 0.9929 - val_loss: 0.0800 - val_accuracy: 0.9810\n",
            "Epoch 44/50\n",
            "469/469 [==============================] - 2s 4ms/step - loss: 0.0211 - accuracy: 0.9928 - val_loss: 0.0830 - val_accuracy: 0.9820\n",
            "Epoch 45/50\n",
            "469/469 [==============================] - 2s 4ms/step - loss: 0.0191 - accuracy: 0.9937 - val_loss: 0.0797 - val_accuracy: 0.9812\n",
            "Epoch 46/50\n",
            "469/469 [==============================] - 2s 4ms/step - loss: 0.0204 - accuracy: 0.9932 - val_loss: 0.0817 - val_accuracy: 0.9826\n",
            "Epoch 47/50\n",
            "469/469 [==============================] - 2s 4ms/step - loss: 0.0198 - accuracy: 0.9936 - val_loss: 0.0766 - val_accuracy: 0.9824\n",
            "Epoch 48/50\n",
            "469/469 [==============================] - 2s 4ms/step - loss: 0.0213 - accuracy: 0.9929 - val_loss: 0.0764 - val_accuracy: 0.9828\n",
            "Epoch 49/50\n",
            "469/469 [==============================] - 2s 4ms/step - loss: 0.0180 - accuracy: 0.9941 - val_loss: 0.0826 - val_accuracy: 0.9817\n",
            "Epoch 50/50\n",
            "469/469 [==============================] - 2s 4ms/step - loss: 0.0189 - accuracy: 0.9938 - val_loss: 0.0837 - val_accuracy: 0.9810\n",
            "100.49381375312805\n"
          ],
          "name": "stdout"
        }
      ]
    },
    {
      "cell_type": "code",
      "metadata": {
        "id": "gk3FaDT2u2sW",
        "colab_type": "code",
        "colab": {
          "base_uri": "https://localhost:8080/",
          "height": 35
        },
        "outputId": "09c25514-cc0d-4141-bdeb-6bed6183298f"
      },
      "source": [
        "score = model.evaluate(test_ds, verbose=1)"
      ],
      "execution_count": 15,
      "outputs": [
        {
          "output_type": "stream",
          "text": [
            "79/79 [==============================] - 0s 3ms/step - loss: 0.0837 - accuracy: 0.9810\n"
          ],
          "name": "stdout"
        }
      ]
    },
    {
      "cell_type": "code",
      "metadata": {
        "id": "eavQXoP9u2sZ",
        "colab_type": "code",
        "colab": {
          "base_uri": "https://localhost:8080/",
          "height": 71
        },
        "outputId": "0e7d26a2-054f-42a4-89cb-4356a94745f6"
      },
      "source": [
        "print(model.metrics_names)\n",
        "print(\"Test score : {:.2f}\".format(score[0]))          # evaluation of loss function\n",
        "print(\"Test accuracy :\", score[1])"
      ],
      "execution_count": 16,
      "outputs": [
        {
          "output_type": "stream",
          "text": [
            "['loss', 'accuracy']\n",
            "Test score : 0.08\n",
            "Test accuracy : 0.9810000061988831\n"
          ],
          "name": "stdout"
        }
      ]
    },
    {
      "cell_type": "code",
      "metadata": {
        "id": "L6v2HKBcu2sc",
        "colab_type": "code",
        "colab": {
          "base_uri": "https://localhost:8080/",
          "height": 91
        },
        "outputId": "fc6b0f8f-b711-4f2f-a515-654a01b49607"
      },
      "source": [
        "# according to the trained classifier for each input example.\n",
        "predicted_classes = model.predict_classes(X_test_scaled)"
      ],
      "execution_count": 17,
      "outputs": [
        {
          "output_type": "stream",
          "text": [
            "WARNING:tensorflow:From <ipython-input-17-e3185d0c7292>:2: Sequential.predict_classes (from tensorflow.python.keras.engine.sequential) is deprecated and will be removed after 2021-01-01.\n",
            "Instructions for updating:\n",
            "Please use instead:* `np.argmax(model.predict(x), axis=-1)`,   if your model does multi-class classification   (e.g. if it uses a `softmax` last-layer activation).* `(model.predict(x) > 0.5).astype(\"int32\")`,   if your model does binary classification   (e.g. if it uses a `sigmoid` last-layer activation).\n"
          ],
          "name": "stdout"
        }
      ]
    },
    {
      "cell_type": "code",
      "metadata": {
        "id": "uUxilzl5u2sh",
        "colab_type": "code",
        "colab": {
          "base_uri": "https://localhost:8080/",
          "height": 35
        },
        "outputId": "5d7971b1-895b-43d2-ad19-49ec6090c812"
      },
      "source": [
        "(predicted_classes == y_test).shape"
      ],
      "execution_count": 18,
      "outputs": [
        {
          "output_type": "execute_result",
          "data": {
            "text/plain": [
              "(10000,)"
            ]
          },
          "metadata": {
            "tags": []
          },
          "execution_count": 18
        }
      ]
    },
    {
      "cell_type": "code",
      "metadata": {
        "id": "yVAsLuz4u2sk",
        "colab_type": "code",
        "colab": {}
      },
      "source": [
        "correct_indices = np.nonzero(predicted_classes == y_test)[0]\n",
        "incorrect_indices = np.nonzero(predicted_classes != y_test)[0]"
      ],
      "execution_count": 0,
      "outputs": []
    },
    {
      "cell_type": "code",
      "metadata": {
        "id": "kTvd288qyEck",
        "colab_type": "code",
        "colab": {
          "base_uri": "https://localhost:8080/",
          "height": 89
        },
        "outputId": "5882e10f-6ffa-41d4-c3eb-3714ec960e5d"
      },
      "source": [
        "print(correct_indices[:30])\n",
        "print(incorrect_indices[:20])"
      ],
      "execution_count": 20,
      "outputs": [
        {
          "output_type": "stream",
          "text": [
            "[ 0  1  2  3  4  5  6  7  8  9 10 11 12 13 14 15 16 17 18 19 20 21 22 23\n",
            " 24 25 26 27 28 29]\n",
            "[ 217  247  321  340  381  445  449  495  582  659  691  720  839  844\n",
            "  947  951  956  965 1014 1039]\n"
          ],
          "name": "stdout"
        }
      ]
    },
    {
      "cell_type": "code",
      "metadata": {
        "id": "Bd0AtbLtu2sn",
        "colab_type": "code",
        "colab": {
          "base_uri": "https://localhost:8080/",
          "height": 53
        },
        "outputId": "f5c25639-201d-4382-f870-87f75c886eee"
      },
      "source": [
        "print(correct_indices.shape)\n",
        "print(incorrect_indices.shape)"
      ],
      "execution_count": 21,
      "outputs": [
        {
          "output_type": "stream",
          "text": [
            "(9810,)\n",
            "(190,)\n"
          ],
          "name": "stdout"
        }
      ]
    },
    {
      "cell_type": "code",
      "metadata": {
        "id": "R5XprI2uu2ss",
        "colab_type": "code",
        "colab": {
          "base_uri": "https://localhost:8080/",
          "height": 865
        },
        "outputId": "58de9521-31d9-4905-890a-9b344295a980"
      },
      "source": [
        "plt.figure(figsize=(6,6))\n",
        "\n",
        "for i, idx in enumerate(correct_indices[:9]):\n",
        "    plt.subplot(3, 3, i+1)\n",
        "    plt.imshow(X_test[idx], cmap='gray')\n",
        "    plt.title(\"Predicted {}, True {}\".format(predicted_classes[idx], y_test[idx]))\n",
        "    plt.xticks([])\n",
        "    plt.yticks([])\n",
        "    plt.tight_layout()\n",
        "    \n",
        "plt.figure(figsize=(6,6))\n",
        "for i, idx in enumerate(incorrect_indices[:9]):\n",
        "    plt.subplot(3,3,i+1)\n",
        "    plt.imshow(X_test[idx], cmap='gray')\n",
        "    plt.title(\"Predicted {}, True {}\".format(predicted_classes[idx], y_test[idx]))\n",
        "    plt.xticks([])\n",
        "    plt.yticks([])\n",
        "    plt.tight_layout()"
      ],
      "execution_count": 22,
      "outputs": [
        {
          "output_type": "display_data",
          "data": {
            "image/png": "[encoded data removed]",
            "text/plain": [
              "<Figure size 432x432 with 9 Axes>"
            ]
          },
          "metadata": {
            "tags": []
          }
        },
        {
          "output_type": "display_data",
          "data": {
            "image/png": "[encoded data removed]",
            "text/plain": [
              "<Figure size 432x432 with 9 Axes>"
            ]
          },
          "metadata": {
            "tags": []
          }
        }
      ]
    },
    {
      "cell_type": "code",
      "metadata": {
        "id": "lAEPAoElu2sv",
        "colab_type": "code",
        "colab": {
          "base_uri": "https://localhost:8080/",
          "height": 295
        },
        "outputId": "d20ca225-84f5-4e53-9a54-41159306826a"
      },
      "source": [
        "plt.figure(figsize=(12,4))\n",
        "plt.subplot(1,2,1)\n",
        "plt.plot(history.history['accuracy'])\n",
        "plt.plot(history.history['val_accuracy'])\n",
        "plt.title('model accuracy')\n",
        "plt.xlabel('epoch')\n",
        "plt.ylabel('accuracy')\n",
        "plt.legend(['train', 'test'])\n",
        "\n",
        "plt.subplot(1,2,2)\n",
        "plt.plot(history.history['loss'])\n",
        "plt.plot(history.history['val_loss'])\n",
        "plt.title('model loss')\n",
        "plt.xlabel('epoch')\n",
        "plt.ylabel('loss')\n",
        "plt.legend(['train', 'test']);"
      ],
      "execution_count": 23,
      "outputs": [
        {
          "output_type": "display_data",
          "data": {
            "image/png": "[encoded data removed]",
            "text/plain": [
              "<Figure size 864x288 with 2 Axes>"
            ]
          },
          "metadata": {
            "tags": [],
            "needs_background": "light"
          }
        }
      ]
    },
    {
      "cell_type": "markdown",
      "metadata": {
        "id": "iWdSL0xgy6bk",
        "colab_type": "text"
      },
      "source": [
        "- predict_classes( ) 와 predict( )\n",
        "\n",
        "    - predict_classes 는 argmax 반환  \n",
        "    - predict 는 확률 분포 반환"
      ]
    },
    {
      "cell_type": "code",
      "metadata": {
        "id": "lUfM-8x9zkPx",
        "colab_type": "code",
        "colab": {
          "base_uri": "https://localhost:8080/",
          "height": 71
        },
        "outputId": "95e4fa1c-0d55-4b80-e4ef-48485ba72d72"
      },
      "source": [
        "print(model.predict_classes(X_test_scaled[5].reshape((1,784))))\n",
        "print(model.predict(X_test_scaled[5].reshape((1,784))))"
      ],
      "execution_count": 24,
      "outputs": [
        {
          "output_type": "stream",
          "text": [
            "[1]\n",
            "[[1.7089049e-18 1.0000000e+00 8.2098863e-15 4.0675456e-19 1.2425463e-12\n",
            "  7.8443147e-20 1.2185409e-16 2.8479365e-11 3.3974391e-16 3.5961855e-21]]\n"
          ],
          "name": "stdout"
        }
      ]
    },
    {
      "cell_type": "code",
      "metadata": {
        "id": "HGsSJJrBu2s0",
        "colab_type": "code",
        "colab": {
          "base_uri": "https://localhost:8080/",
          "height": 35
        },
        "outputId": "2dd00eba-5a2d-4230-940b-1ecc1bbc0627"
      },
      "source": [
        "np.argmax(model.predict(X_test_scaled[5].reshape((1,784))))"
      ],
      "execution_count": 25,
      "outputs": [
        {
          "output_type": "execute_result",
          "data": {
            "text/plain": [
              "1"
            ]
          },
          "metadata": {
            "tags": []
          },
          "execution_count": 25
        }
      ]
    },
    {
      "cell_type": "code",
      "metadata": {
        "id": "Mws6iDx3u2s5",
        "colab_type": "code",
        "colab": {
          "base_uri": "https://localhost:8080/",
          "height": 283
        },
        "outputId": "55cc3932-1862-4a0b-d3be-40d7c88bad95"
      },
      "source": [
        "plt.imshow(X_test[5], cmap='gray')"
      ],
      "execution_count": 26,
      "outputs": [
        {
          "output_type": "execute_result",
          "data": {
            "text/plain": [
              "<matplotlib.image.AxesImage at 0x7fc210105c50>"
            ]
          },
          "metadata": {
            "tags": []
          },
          "execution_count": 26
        },
        {
          "output_type": "display_data",
          "data": {
            "image/png": "[encoded data removed]",
            "text/plain": [
              "<Figure size 432x288 with 1 Axes>"
            ]
          },
          "metadata": {
            "tags": [],
            "needs_background": "light"
          }
        }
      ]
    },
    {
      "cell_type": "markdown",
      "metadata": {
        "id": "lFCy1u4Du2s_",
        "colab_type": "text"
      },
      "source": [
        "# 실습 : fashion MNIST 를 이용하여 위와 동일한 작업\n",
        "\n",
        "Label\tClass\n",
        "\n",
        "0\tT-shirt/top\n",
        "\n",
        "1\tTrouser\n",
        "\n",
        "2\tPullover\n",
        "\n",
        "3\tDress\n",
        "\n",
        "4\tCoat\n",
        "\n",
        "5\tSandal\n",
        "\n",
        "6\tShirt\n",
        "\n",
        "7\tSneaker\n",
        "\n",
        "8\tBag\n",
        "\n",
        "9\tAnkle boot"
      ]
    },
    {
      "cell_type": "code",
      "metadata": {
        "id": "zMekw4FLu2tA",
        "colab_type": "code",
        "colab": {
          "base_uri": "https://localhost:8080/",
          "height": 232
        },
        "outputId": "379d5e72-8889-4718-b08e-1abd23afb46a"
      },
      "source": [
        "(train_images, train_labels), (test_images, test_labels) = tf.keras.datasets.fashion_mnist.load_data()\n",
        "\n",
        "print(train_images.shape)\n",
        "print(train_labels.shape)\n",
        "print(test_images.shape)\n",
        "print(test_labels.shape)"
      ],
      "execution_count": 27,
      "outputs": [
        {
          "output_type": "stream",
          "text": [
            "Downloading data from https://storage.googleapis.com/tensorflow/tf-keras-datasets/train-labels-idx1-ubyte.gz\n",
            "32768/29515 [=================================] - 0s 0us/step\n",
            "Downloading data from https://storage.googleapis.com/tensorflow/tf-keras-datasets/train-images-idx3-ubyte.gz\n",
            "26427392/26421880 [==============================] - 1s 0us/step\n",
            "Downloading data from https://storage.googleapis.com/tensorflow/tf-keras-datasets/t10k-labels-idx1-ubyte.gz\n",
            "8192/5148 [===============================================] - 0s 0us/step\n",
            "Downloading data from https://storage.googleapis.com/tensorflow/tf-keras-datasets/t10k-images-idx3-ubyte.gz\n",
            "4423680/4422102 [==============================] - 0s 0us/step\n",
            "(60000, 28, 28)\n",
            "(60000,)\n",
            "(10000, 28, 28)\n",
            "(10000,)\n"
          ],
          "name": "stdout"
        }
      ]
    },
    {
      "cell_type": "code",
      "metadata": {
        "id": "255qEg4mu2tD",
        "colab_type": "code",
        "colab": {}
      },
      "source": [
        "class_names = ['T-shirt/top', 'Trouser', 'Pullover', 'Dress', 'Coat', 'Sandal', 'Shirt', 'Sneaker', 'Bag', 'Ankle boot']"
      ],
      "execution_count": 0,
      "outputs": []
    },
    {
      "cell_type": "code",
      "metadata": {
        "id": "hrpQjF3Lu2tH",
        "colab_type": "code",
        "colab": {
          "base_uri": "https://localhost:8080/",
          "height": 283
        },
        "outputId": "d758014e-f041-47df-cc75-9702ba3f80ee"
      },
      "source": [
        "plt.imshow(train_images[0], cmap='gray')\n",
        "plt.colorbar()"
      ],
      "execution_count": 29,
      "outputs": [
        {
          "output_type": "execute_result",
          "data": {
            "text/plain": [
              "<matplotlib.colorbar.Colorbar at 0x7fc210123438>"
            ]
          },
          "metadata": {
            "tags": []
          },
          "execution_count": 29
        },
        {
          "output_type": "display_data",
          "data": {
            "image/png": "[encoded data removed]",
            "text/plain": [
              "<Figure size 432x288 with 2 Axes>"
            ]
          },
          "metadata": {
            "tags": [],
            "needs_background": "light"
          }
        }
      ]
    },
    {
      "cell_type": "code",
      "metadata": {
        "id": "x5ycGN3eu2tK",
        "colab_type": "code",
        "colab": {}
      },
      "source": [
        "train_images = train_images / 255.0\n",
        "test_images = test_images / 255.0"
      ],
      "execution_count": 0,
      "outputs": []
    },
    {
      "cell_type": "code",
      "metadata": {
        "id": "EExtr6Stu2tP",
        "colab_type": "code",
        "colab": {
          "base_uri": "https://localhost:8080/",
          "height": 589
        },
        "outputId": "e49faa63-323f-4808-d125-4beb445f8314"
      },
      "source": [
        "plt.figure(figsize=(10,10))\n",
        "for i in range(25):\n",
        "    plt.subplot(5,5,i+1)\n",
        "    plt.imshow(train_images[i], cmap=plt.cm.binary)\n",
        "    plt.xlabel(class_names[train_labels[i]])\n",
        "    plt.gca().set_xticks([])\n",
        "    plt.gca().set_yticks([])"
      ],
      "execution_count": 31,
      "outputs": [
        {
          "output_type": "display_data",
          "data": {
            "image/png": "[encoded data removed]",
            "text/plain": [
              "<Figure size 720x720 with 25 Axes>"
            ]
          },
          "metadata": {
            "tags": []
          }
        }
      ]
    },
    {
      "cell_type": "code",
      "metadata": {
        "id": "CR6EjJiQu2tS",
        "colab_type": "code",
        "colab": {}
      },
      "source": [
        "# Your code here"
      ],
      "execution_count": 0,
      "outputs": []
    }
  ]
}