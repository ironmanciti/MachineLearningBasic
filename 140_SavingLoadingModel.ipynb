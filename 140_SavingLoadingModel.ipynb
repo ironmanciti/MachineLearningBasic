{
  "nbformat": 4,
  "nbformat_minor": 0,
  "metadata": {
    "kernelspec": {
      "display_name": "Python 3",
      "language": "python",
      "name": "python3"
    },
    "language_info": {
      "codemirror_mode": {
        "name": "ipython",
        "version": 3
      },
      "file_extension": ".py",
      "mimetype": "text/x-python",
      "name": "python",
      "nbconvert_exporter": "python",
      "pygments_lexer": "ipython3",
      "version": "3.7.6"
    },
    "colab": {
      "name": "140.SavingLoadingModel.ipynb",
      "provenance": []
    },
    "accelerator": "GPU"
  },
  "cells": [
    {
      "cell_type": "markdown",
      "metadata": {
        "id": "4OiBsAAhhsgA",
        "colab_type": "text"
      },
      "source": [
        "# 140.model save / load\n",
        "\n",
        "### 생성한 모델을 disk 에 저장하고 복원\n",
        "\n",
        "- model 의 architecture 저장 : json, yaml format  \n",
        "\n",
        "- model 의 weigth 저장 : h5 file format  \n",
        "\n",
        "- hdf5(Hierarchical Data Format version 5)는 대용량 데이터를 저장하기 위한 파일 포맷"
      ]
    },
    {
      "cell_type": "code",
      "metadata": {
        "id": "AlqENit6hsgB",
        "colab_type": "code",
        "colab": {
          "base_uri": "https://localhost:8080/",
          "height": 109
        },
        "outputId": "1c56bbea-2189-4a84-e292-e92367300571"
      },
      "source": [
        "import numpy as np\n",
        "import tensorflow as tf\n",
        "\n",
        "from tensorflow.keras.layers import Conv2D, AveragePooling2D\n",
        "from tensorflow.keras.layers import Dense, Flatten, Activation\n",
        "from tensorflow.keras.models import Sequential\n",
        "from tensorflow.keras.datasets import mnist\n",
        "from tensorflow.keras import utils\n",
        "\n",
        "(X_train, y_train), (X_test, y_test) = mnist.load_data()\n",
        "X_train = X_train.astype(\"float32\")\n",
        "X_test = X_test.astype(\"float32\")\n",
        "X_train /= 255\n",
        "X_test /= 255\n",
        "\n",
        "X_train = X_train[:, :, :, np.newaxis]\n",
        "X_test   = X_test[:, :, :, np.newaxis]\n",
        "y_train = utils.to_categorical(y_train)\n",
        "y_test = utils.to_categorical(y_test)\n",
        "\n",
        "# LeNet\n",
        "model = tf.keras.Sequential()\n",
        "\n",
        "model.add(Conv2D(6, kernel_size=5, padding=\"same\", input_shape=(28, 28, 1)))\n",
        "model.add(Activation(\"relu\"))\n",
        "\n",
        "model.add(AveragePooling2D(pool_size=(2, 2), strides=(1, 1), padding=\"valid\"))\n",
        "\n",
        "model.add(Conv2D(16, kernel_size=5, padding=\"valid\"))\n",
        "model.add(Activation('relu'))\n",
        "\n",
        "model.add(AveragePooling2D(pool_size=(2, 2), strides=(2, 2), padding=\"valid\"))\n",
        "\n",
        "model.add(Flatten())\n",
        "\n",
        "model.add(Dense(120))\n",
        "model.add(Activation(\"relu\"))\n",
        "\n",
        "model.add(Dense(84))\n",
        "model.add(Activation(\"relu\"))\n",
        "\n",
        "model.add(Dense(10))\n",
        "model.add(Activation(\"softmax\"))\n",
        "\n",
        "model.compile(loss=\"categorical_crossentropy\", optimizer='adam', metrics=['accuracy'])\n",
        "\n",
        "model.fit(X_train, y_train, batch_size=128, epochs=1, validation_data=(X_test, y_test))"
      ],
      "execution_count": 1,
      "outputs": [
        {
          "output_type": "stream",
          "text": [
            "Downloading data from https://storage.googleapis.com/tensorflow/tf-keras-datasets/mnist.npz\n",
            "11493376/11490434 [==============================] - 0s 0us/step\n",
            "469/469 [==============================] - 3s 6ms/step - loss: 0.2538 - accuracy: 0.9248 - val_loss: 0.0935 - val_accuracy: 0.9704\n"
          ],
          "name": "stdout"
        },
        {
          "output_type": "execute_result",
          "data": {
            "text/plain": [
              "<tensorflow.python.keras.callbacks.History at 0x7fd4e002f0b8>"
            ]
          },
          "metadata": {
            "tags": []
          },
          "execution_count": 1
        }
      ]
    },
    {
      "cell_type": "markdown",
      "metadata": {
        "id": "RQbRc3lohsgG",
        "colab_type": "text"
      },
      "source": [
        "### Model Architecture Save"
      ]
    },
    {
      "cell_type": "code",
      "metadata": {
        "id": "Iyf1dvK1hsgH",
        "colab_type": "code",
        "colab": {}
      },
      "source": [
        "json_string = model.to_json()"
      ],
      "execution_count": 0,
      "outputs": []
    },
    {
      "cell_type": "code",
      "metadata": {
        "id": "AWfdhJIjhsgK",
        "colab_type": "code",
        "colab": {}
      },
      "source": [
        "with open(\"lenet.json\", \"w\") as json_file:\n",
        "    json_file.write(json_string)"
      ],
      "execution_count": 0,
      "outputs": []
    },
    {
      "cell_type": "markdown",
      "metadata": {
        "id": "tGoITI0thsgM",
        "colab_type": "text"
      },
      "source": [
        "### weight 만 save"
      ]
    },
    {
      "cell_type": "code",
      "metadata": {
        "id": "pnSF-ThthsgN",
        "colab_type": "code",
        "colab": {}
      },
      "source": [
        "model.save_weights(\"lenet_weight.h5\")"
      ],
      "execution_count": 0,
      "outputs": []
    },
    {
      "cell_type": "markdown",
      "metadata": {
        "id": "CtWZhoNDhsgS",
        "colab_type": "text"
      },
      "source": [
        "### 전체 model save"
      ]
    },
    {
      "cell_type": "code",
      "metadata": {
        "id": "ZJ93mYSRhsgT",
        "colab_type": "code",
        "colab": {}
      },
      "source": [
        "model.save(\"lenet_model.h5\")"
      ],
      "execution_count": 0,
      "outputs": []
    },
    {
      "cell_type": "markdown",
      "metadata": {
        "id": "JEEBkAb-hsgV",
        "colab_type": "text"
      },
      "source": [
        "## Model Load\n",
        "\n",
        "- model architecture 와 weight 별도 저장한 경우,  architecture load + weight load + compile"
      ]
    },
    {
      "cell_type": "code",
      "metadata": {
        "id": "rw3IueaahsgW",
        "colab_type": "code",
        "colab": {}
      },
      "source": [
        "from tensorflow.keras.models import model_from_json\n",
        "\n",
        "json_file = open(\"lenet.json\", \"r\")\n",
        "read_model = json_file.read()\n",
        "json_file.close()\n",
        "\n",
        "loaded_model = model_from_json(read_model)\n",
        "loaded_model.load_weights(\"lenet_weight.h5\")\n",
        "\n",
        "loaded_model.compile(loss=\"categorical_crossentropy\", optimizer=\"adam\", metrics=['accuracy'])"
      ],
      "execution_count": 0,
      "outputs": []
    },
    {
      "cell_type": "code",
      "metadata": {
        "id": "UQA3lu2AhsgZ",
        "colab_type": "code",
        "colab": {
          "base_uri": "https://localhost:8080/",
          "height": 35
        },
        "outputId": "93d69ac7-d411-4563-8dcd-45d573974101"
      },
      "source": [
        "loaded_model.evaluate(X_test, y_test, verbose=0)"
      ],
      "execution_count": 9,
      "outputs": [
        {
          "output_type": "execute_result",
          "data": {
            "text/plain": [
              "[0.09354667365550995, 0.9703999757766724]"
            ]
          },
          "metadata": {
            "tags": []
          },
          "execution_count": 9
        }
      ]
    },
    {
      "cell_type": "markdown",
      "metadata": {
        "id": "RXFaq58PijW7",
        "colab_type": "text"
      },
      "source": [
        "- model 전체 저장한 경우 load"
      ]
    },
    {
      "cell_type": "code",
      "metadata": {
        "id": "VGwaQJGohsgc",
        "colab_type": "code",
        "colab": {}
      },
      "source": [
        "from tensorflow.keras.models import load_model\n",
        "\n",
        "loaded_model = load_model('lenet_model.h5')"
      ],
      "execution_count": 0,
      "outputs": []
    },
    {
      "cell_type": "code",
      "metadata": {
        "id": "7cybVAhhhsgg",
        "colab_type": "code",
        "colab": {
          "base_uri": "https://localhost:8080/",
          "height": 35
        },
        "outputId": "9d5b9775-c054-4bad-b2bb-9ae26b3a84db"
      },
      "source": [
        "loaded_model.evaluate(X_test, y_test, verbose=0)"
      ],
      "execution_count": 11,
      "outputs": [
        {
          "output_type": "execute_result",
          "data": {
            "text/plain": [
              "[0.09354667365550995, 0.9703999757766724]"
            ]
          },
          "metadata": {
            "tags": []
          },
          "execution_count": 11
        }
      ]
    },
    {
      "cell_type": "code",
      "metadata": {
        "id": "jMaJy305hsgk",
        "colab_type": "code",
        "colab": {
          "base_uri": "https://localhost:8080/",
          "height": 109
        },
        "outputId": "98abef4e-e9cb-4f40-ddfa-adad90f941eb"
      },
      "source": [
        "y_predict = model.predict_classes(X_test)\n",
        "y_predict"
      ],
      "execution_count": 12,
      "outputs": [
        {
          "output_type": "stream",
          "text": [
            "WARNING:tensorflow:From <ipython-input-12-893f06b4cef1>:1: Sequential.predict_classes (from tensorflow.python.keras.engine.sequential) is deprecated and will be removed after 2021-01-01.\n",
            "Instructions for updating:\n",
            "Please use instead:* `np.argmax(model.predict(x), axis=-1)`,   if your model does multi-class classification   (e.g. if it uses a `softmax` last-layer activation).* `(model.predict(x) > 0.5).astype(\"int32\")`,   if your model does binary classification   (e.g. if it uses a `sigmoid` last-layer activation).\n"
          ],
          "name": "stdout"
        },
        {
          "output_type": "execute_result",
          "data": {
            "text/plain": [
              "array([7, 2, 1, ..., 4, 5, 6])"
            ]
          },
          "metadata": {
            "tags": []
          },
          "execution_count": 12
        }
      ]
    },
    {
      "cell_type": "code",
      "metadata": {
        "id": "nln-zBiVhsgq",
        "colab_type": "code",
        "colab": {
          "base_uri": "https://localhost:8080/",
          "height": 35
        },
        "outputId": "87bef8ca-b6cb-4893-92d9-3e10be5a2741"
      },
      "source": [
        "np.argmax(y_test, axis=1)"
      ],
      "execution_count": 13,
      "outputs": [
        {
          "output_type": "execute_result",
          "data": {
            "text/plain": [
              "array([7, 2, 1, ..., 4, 5, 6])"
            ]
          },
          "metadata": {
            "tags": []
          },
          "execution_count": 13
        }
      ]
    },
    {
      "cell_type": "code",
      "metadata": {
        "id": "Sa_Te3SZhsgu",
        "colab_type": "code",
        "colab": {
          "base_uri": "https://localhost:8080/",
          "height": 35
        },
        "outputId": "3f0922ba-af58-4820-e4ae-714a37bae360"
      },
      "source": [
        "print(\"accuracy = {} %\".format(np.sum(y_predict == np.argmax(y_test, axis=1)) / len(y_test) * 100))"
      ],
      "execution_count": 17,
      "outputs": [
        {
          "output_type": "stream",
          "text": [
            "accuracy = 97.04 %\n"
          ],
          "name": "stdout"
        }
      ]
    }
  ]
}