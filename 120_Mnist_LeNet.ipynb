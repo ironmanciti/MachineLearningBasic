{
  "nbformat": 4,
  "nbformat_minor": 0,
  "metadata": {
    "kernelspec": {
      "display_name": "Python 3",
      "language": "python",
      "name": "python3"
    },
    "language_info": {
      "codemirror_mode": {
        "name": "ipython",
        "version": 3
      },
      "file_extension": ".py",
      "mimetype": "text/x-python",
      "name": "python",
      "nbconvert_exporter": "python",
      "pygments_lexer": "ipython3",
      "version": "3.7.6"
    },
    "colab": {
      "name": "120.Mnist_LeNet.ipynb",
      "provenance": []
    },
    "accelerator": "GPU"
  },
  "cells": [
    {
      "cell_type": "markdown",
      "metadata": {
        "id": "EeHiU030U5Az",
        "colab_type": "text"
      },
      "source": [
        "# 120.LeNet-5 (1998, Yan LeCunn)"
      ]
    },
    {
      "cell_type": "code",
      "metadata": {
        "id": "5q6N50QzU5A1",
        "colab_type": "code",
        "colab": {}
      },
      "source": [
        "import numpy as np\n",
        "import matplotlib.pyplot as plt\n",
        "import tensorflow as tf\n",
        "\n",
        "from tensorflow.keras.layers import Conv2D, AveragePooling2D\n",
        "from tensorflow.keras.layers import Dense, Flatten, Activation\n",
        "\n",
        "from tensorflow.keras.datasets import mnist\n",
        "np.random.seed(101)"
      ],
      "execution_count": 0,
      "outputs": []
    },
    {
      "cell_type": "code",
      "metadata": {
        "id": "dzApFk-xU5A8",
        "colab_type": "code",
        "colab": {
          "base_uri": "https://localhost:8080/",
          "height": 89
        },
        "outputId": "49b55354-09a4-453c-bc49-cd033079b62a"
      },
      "source": [
        "(X_train, y_train), (X_test, y_test) = mnist.load_data()\n",
        "\n",
        "print(X_train.shape)\n",
        "print(y_train.shape)\n",
        "print(X_test.shape)\n",
        "print(y_test.shape)"
      ],
      "execution_count": 11,
      "outputs": [
        {
          "output_type": "stream",
          "text": [
            "(60000, 28, 28)\n",
            "(60000,)\n",
            "(10000, 28, 28)\n",
            "(10000,)\n"
          ],
          "name": "stdout"
        }
      ]
    },
    {
      "cell_type": "code",
      "metadata": {
        "id": "BeAHy351U5BC",
        "colab_type": "code",
        "colab": {}
      },
      "source": [
        "X_train_scaled = X_train / 255.\n",
        "X_test_scaled = X_test / 255."
      ],
      "execution_count": 0,
      "outputs": []
    },
    {
      "cell_type": "markdown",
      "metadata": {
        "id": "6Qx83JY0VJ-i",
        "colab_type": "text"
      },
      "source": [
        "- Conv2D 는 3 차원 data 입력 요구"
      ]
    },
    {
      "cell_type": "code",
      "metadata": {
        "id": "1O9tKltpU5BH",
        "colab_type": "code",
        "colab": {}
      },
      "source": [
        "X_train_scaled = np.expand_dims(X_train_scaled, axis=3)\n",
        "X_test_scaled = np.expand_dims(X_test_scaled, axis=3)"
      ],
      "execution_count": 0,
      "outputs": []
    },
    {
      "cell_type": "code",
      "metadata": {
        "id": "stZVjNi2U5BL",
        "colab_type": "code",
        "colab": {
          "base_uri": "https://localhost:8080/",
          "height": 35
        },
        "outputId": "834ba04a-00a9-4d75-b923-cc9a2b2a2440"
      },
      "source": [
        "X_train_scaled.shape\n",
        "X_test_scaled.shape"
      ],
      "execution_count": 14,
      "outputs": [
        {
          "output_type": "execute_result",
          "data": {
            "text/plain": [
              "(10000, 28, 28, 1)"
            ]
          },
          "metadata": {
            "tags": []
          },
          "execution_count": 14
        }
      ]
    },
    {
      "cell_type": "code",
      "metadata": {
        "id": "8kv9idp8U5BO",
        "colab_type": "code",
        "colab": {}
      },
      "source": [
        "y_train_onehot = tf.keras.utils.to_categorical(y_train)\n",
        "y_test_onehot = tf.keras.utils.to_categorical(y_test)"
      ],
      "execution_count": 0,
      "outputs": []
    },
    {
      "cell_type": "markdown",
      "metadata": {
        "id": "J5h2rvawU5BQ",
        "colab_type": "text"
      },
      "source": [
        "## tf.data 를 이용한 shuffling and batch 구성"
      ]
    },
    {
      "cell_type": "code",
      "metadata": {
        "id": "rEGeE2dyU5BR",
        "colab_type": "code",
        "colab": {}
      },
      "source": [
        "train_ds = tf.data.Dataset.from_tensor_slices((X_train_scaled, y_train_onehot)).shuffle(10000).batch(128)\n",
        "test_ds  = tf.data.Dataset.from_tensor_slices((X_test_scaled, y_test_onehot)).batch(128)"
      ],
      "execution_count": 0,
      "outputs": []
    },
    {
      "cell_type": "markdown",
      "metadata": {
        "id": "Qbf0q-8mU5BU",
        "colab_type": "text"
      },
      "source": [
        "## LeNet 구성"
      ]
    },
    {
      "cell_type": "code",
      "metadata": {
        "id": "FkUYUqEpU5BV",
        "colab_type": "code",
        "colab": {}
      },
      "source": [
        "# LeNet\n",
        "model = tf.keras.Sequential()\n",
        "\n",
        "model.add(Conv2D(6, kernel_size=5, padding=\"same\", input_shape=(28, 28, 1)))\n",
        "model.add(Activation(\"relu\"))\n",
        "\n",
        "model.add(AveragePooling2D(pool_size=(2, 2), strides=(2, 2), padding=\"valid\"))\n",
        "\n",
        "model.add(Conv2D(16, kernel_size=5, padding=\"valid\"))\n",
        "model.add(Activation('relu'))\n",
        "\n",
        "model.add(AveragePooling2D(pool_size=(2, 2), strides=(2, 2), padding=\"valid\"))\n",
        "\n",
        "model.add(Flatten())\n",
        "\n",
        "model.add(Dense(120))\n",
        "model.add(Activation(\"relu\"))\n",
        "\n",
        "model.add(Dense(84))\n",
        "model.add(Activation(\"relu\"))\n",
        "\n",
        "model.add(Dense(10))\n",
        "model.add(Activation(\"softmax\"))"
      ],
      "execution_count": 0,
      "outputs": []
    },
    {
      "cell_type": "code",
      "metadata": {
        "id": "udB-CFAoU5BX",
        "colab_type": "code",
        "colab": {
          "base_uri": "https://localhost:8080/",
          "height": 626
        },
        "outputId": "64964d26-30ee-4d45-afc4-6b942369b5c4"
      },
      "source": [
        "model.summary()"
      ],
      "execution_count": 18,
      "outputs": [
        {
          "output_type": "stream",
          "text": [
            "Model: \"sequential\"\n",
            "_________________________________________________________________\n",
            "Layer (type)                 Output Shape              Param #   \n",
            "=================================================================\n",
            "conv2d (Conv2D)              (None, 28, 28, 6)         156       \n",
            "_________________________________________________________________\n",
            "activation (Activation)      (None, 28, 28, 6)         0         \n",
            "_________________________________________________________________\n",
            "average_pooling2d (AveragePo (None, 14, 14, 6)         0         \n",
            "_________________________________________________________________\n",
            "conv2d_1 (Conv2D)            (None, 10, 10, 16)        2416      \n",
            "_________________________________________________________________\n",
            "activation_1 (Activation)    (None, 10, 10, 16)        0         \n",
            "_________________________________________________________________\n",
            "average_pooling2d_1 (Average (None, 5, 5, 16)          0         \n",
            "_________________________________________________________________\n",
            "flatten (Flatten)            (None, 400)               0         \n",
            "_________________________________________________________________\n",
            "dense (Dense)                (None, 120)               48120     \n",
            "_________________________________________________________________\n",
            "activation_2 (Activation)    (None, 120)               0         \n",
            "_________________________________________________________________\n",
            "dense_1 (Dense)              (None, 84)                10164     \n",
            "_________________________________________________________________\n",
            "activation_3 (Activation)    (None, 84)                0         \n",
            "_________________________________________________________________\n",
            "dense_2 (Dense)              (None, 10)                850       \n",
            "_________________________________________________________________\n",
            "activation_4 (Activation)    (None, 10)                0         \n",
            "=================================================================\n",
            "Total params: 61,706\n",
            "Trainable params: 61,706\n",
            "Non-trainable params: 0\n",
            "_________________________________________________________________\n"
          ],
          "name": "stdout"
        }
      ]
    },
    {
      "cell_type": "code",
      "metadata": {
        "id": "rk5NWdNNU5Ba",
        "colab_type": "code",
        "colab": {}
      },
      "source": [
        "model.compile(loss=\"categorical_crossentropy\", optimizer='adam', metrics=['accuracy'])"
      ],
      "execution_count": 0,
      "outputs": []
    },
    {
      "cell_type": "code",
      "metadata": {
        "scrolled": true,
        "id": "JTlagatIU5Bc",
        "colab_type": "code",
        "colab": {
          "base_uri": "https://localhost:8080/",
          "height": 1000
        },
        "outputId": "df522508-50cb-449c-8af5-a3031454e7a9"
      },
      "source": [
        "%%time\n",
        "history = model.fit(train_ds, epochs=50, validation_data=test_ds)"
      ],
      "execution_count": 20,
      "outputs": [
        {
          "output_type": "stream",
          "text": [
            "Epoch 1/50\n",
            "469/469 [==============================] - 4s 8ms/step - loss: 0.3785 - accuracy: 0.8889 - val_loss: 0.1230 - val_accuracy: 0.9632\n",
            "Epoch 2/50\n",
            "469/469 [==============================] - 4s 9ms/step - loss: 0.1097 - accuracy: 0.9668 - val_loss: 0.0827 - val_accuracy: 0.9754\n",
            "Epoch 3/50\n",
            "469/469 [==============================] - 4s 9ms/step - loss: 0.0778 - accuracy: 0.9755 - val_loss: 0.0651 - val_accuracy: 0.9790\n",
            "Epoch 4/50\n",
            "469/469 [==============================] - 4s 9ms/step - loss: 0.0609 - accuracy: 0.9815 - val_loss: 0.0465 - val_accuracy: 0.9851\n",
            "Epoch 5/50\n",
            "469/469 [==============================] - 4s 9ms/step - loss: 0.0511 - accuracy: 0.9844 - val_loss: 0.0410 - val_accuracy: 0.9877\n",
            "Epoch 6/50\n",
            "469/469 [==============================] - 4s 9ms/step - loss: 0.0438 - accuracy: 0.9865 - val_loss: 0.0338 - val_accuracy: 0.9881\n",
            "Epoch 7/50\n",
            "469/469 [==============================] - 4s 8ms/step - loss: 0.0380 - accuracy: 0.9878 - val_loss: 0.0369 - val_accuracy: 0.9876\n",
            "Epoch 8/50\n",
            "469/469 [==============================] - 4s 9ms/step - loss: 0.0338 - accuracy: 0.9891 - val_loss: 0.0415 - val_accuracy: 0.9860\n",
            "Epoch 9/50\n",
            "469/469 [==============================] - 4s 9ms/step - loss: 0.0289 - accuracy: 0.9907 - val_loss: 0.0312 - val_accuracy: 0.9901\n",
            "Epoch 10/50\n",
            "469/469 [==============================] - 4s 9ms/step - loss: 0.0270 - accuracy: 0.9910 - val_loss: 0.0347 - val_accuracy: 0.9880\n",
            "Epoch 11/50\n",
            "469/469 [==============================] - 4s 9ms/step - loss: 0.0231 - accuracy: 0.9926 - val_loss: 0.0372 - val_accuracy: 0.9880\n",
            "Epoch 12/50\n",
            "469/469 [==============================] - 4s 9ms/step - loss: 0.0221 - accuracy: 0.9925 - val_loss: 0.0352 - val_accuracy: 0.9879\n",
            "Epoch 13/50\n",
            "469/469 [==============================] - 4s 9ms/step - loss: 0.0193 - accuracy: 0.9940 - val_loss: 0.0347 - val_accuracy: 0.9890\n",
            "Epoch 14/50\n",
            "469/469 [==============================] - 4s 9ms/step - loss: 0.0183 - accuracy: 0.9942 - val_loss: 0.0353 - val_accuracy: 0.9891\n",
            "Epoch 15/50\n",
            "469/469 [==============================] - 4s 9ms/step - loss: 0.0158 - accuracy: 0.9953 - val_loss: 0.0316 - val_accuracy: 0.9904\n",
            "Epoch 16/50\n",
            "469/469 [==============================] - 4s 9ms/step - loss: 0.0136 - accuracy: 0.9957 - val_loss: 0.0329 - val_accuracy: 0.9904\n",
            "Epoch 17/50\n",
            "469/469 [==============================] - 4s 9ms/step - loss: 0.0148 - accuracy: 0.9952 - val_loss: 0.0338 - val_accuracy: 0.9900\n",
            "Epoch 18/50\n",
            "469/469 [==============================] - 4s 9ms/step - loss: 0.0115 - accuracy: 0.9963 - val_loss: 0.0312 - val_accuracy: 0.9903\n",
            "Epoch 19/50\n",
            "469/469 [==============================] - 4s 9ms/step - loss: 0.0107 - accuracy: 0.9967 - val_loss: 0.0399 - val_accuracy: 0.9887\n",
            "Epoch 20/50\n",
            "469/469 [==============================] - 4s 9ms/step - loss: 0.0103 - accuracy: 0.9964 - val_loss: 0.0361 - val_accuracy: 0.9896\n",
            "Epoch 21/50\n",
            "469/469 [==============================] - 4s 9ms/step - loss: 0.0092 - accuracy: 0.9970 - val_loss: 0.0363 - val_accuracy: 0.9900\n",
            "Epoch 22/50\n",
            "469/469 [==============================] - 4s 9ms/step - loss: 0.0093 - accuracy: 0.9967 - val_loss: 0.0399 - val_accuracy: 0.9891\n",
            "Epoch 23/50\n",
            "469/469 [==============================] - 4s 9ms/step - loss: 0.0102 - accuracy: 0.9963 - val_loss: 0.0381 - val_accuracy: 0.9897\n",
            "Epoch 24/50\n",
            "469/469 [==============================] - 4s 9ms/step - loss: 0.0080 - accuracy: 0.9973 - val_loss: 0.0394 - val_accuracy: 0.9905\n",
            "Epoch 25/50\n",
            "469/469 [==============================] - 4s 9ms/step - loss: 0.0063 - accuracy: 0.9981 - val_loss: 0.0402 - val_accuracy: 0.9903\n",
            "Epoch 26/50\n",
            "469/469 [==============================] - 4s 9ms/step - loss: 0.0068 - accuracy: 0.9977 - val_loss: 0.0372 - val_accuracy: 0.9903\n",
            "Epoch 27/50\n",
            "469/469 [==============================] - 4s 9ms/step - loss: 0.0071 - accuracy: 0.9976 - val_loss: 0.0477 - val_accuracy: 0.9893\n",
            "Epoch 28/50\n",
            "469/469 [==============================] - 4s 9ms/step - loss: 0.0074 - accuracy: 0.9972 - val_loss: 0.0393 - val_accuracy: 0.9907\n",
            "Epoch 29/50\n",
            "469/469 [==============================] - 4s 9ms/step - loss: 0.0062 - accuracy: 0.9979 - val_loss: 0.0396 - val_accuracy: 0.9901\n",
            "Epoch 30/50\n",
            "469/469 [==============================] - 4s 9ms/step - loss: 0.0064 - accuracy: 0.9976 - val_loss: 0.0517 - val_accuracy: 0.9862\n",
            "Epoch 31/50\n",
            "469/469 [==============================] - 4s 9ms/step - loss: 0.0052 - accuracy: 0.9983 - val_loss: 0.0430 - val_accuracy: 0.9901\n",
            "Epoch 32/50\n",
            "469/469 [==============================] - 4s 9ms/step - loss: 0.0050 - accuracy: 0.9983 - val_loss: 0.0517 - val_accuracy: 0.9887\n",
            "Epoch 33/50\n",
            "469/469 [==============================] - 4s 9ms/step - loss: 0.0067 - accuracy: 0.9977 - val_loss: 0.0330 - val_accuracy: 0.9912\n",
            "Epoch 34/50\n",
            "469/469 [==============================] - 4s 9ms/step - loss: 0.0030 - accuracy: 0.9990 - val_loss: 0.0464 - val_accuracy: 0.9899\n",
            "Epoch 35/50\n",
            "469/469 [==============================] - 4s 9ms/step - loss: 0.0067 - accuracy: 0.9979 - val_loss: 0.0571 - val_accuracy: 0.9881\n",
            "Epoch 36/50\n",
            "469/469 [==============================] - 4s 9ms/step - loss: 0.0053 - accuracy: 0.9982 - val_loss: 0.0390 - val_accuracy: 0.9914\n",
            "Epoch 37/50\n",
            "469/469 [==============================] - 4s 9ms/step - loss: 0.0038 - accuracy: 0.9986 - val_loss: 0.0463 - val_accuracy: 0.9880\n",
            "Epoch 38/50\n",
            "469/469 [==============================] - 4s 9ms/step - loss: 0.0044 - accuracy: 0.9984 - val_loss: 0.0499 - val_accuracy: 0.9907\n",
            "Epoch 39/50\n",
            "469/469 [==============================] - 4s 9ms/step - loss: 0.0041 - accuracy: 0.9985 - val_loss: 0.0512 - val_accuracy: 0.9893\n",
            "Epoch 40/50\n",
            "469/469 [==============================] - 4s 9ms/step - loss: 0.0027 - accuracy: 0.9990 - val_loss: 0.0442 - val_accuracy: 0.9898\n",
            "Epoch 41/50\n",
            "469/469 [==============================] - 4s 9ms/step - loss: 0.0062 - accuracy: 0.9978 - val_loss: 0.0514 - val_accuracy: 0.9891\n",
            "Epoch 42/50\n",
            "469/469 [==============================] - 4s 9ms/step - loss: 0.0024 - accuracy: 0.9992 - val_loss: 0.0348 - val_accuracy: 0.9910\n",
            "Epoch 43/50\n",
            "469/469 [==============================] - 4s 9ms/step - loss: 0.0031 - accuracy: 0.9989 - val_loss: 0.0501 - val_accuracy: 0.9895\n",
            "Epoch 44/50\n",
            "469/469 [==============================] - 4s 9ms/step - loss: 0.0034 - accuracy: 0.9987 - val_loss: 0.0446 - val_accuracy: 0.9907\n",
            "Epoch 45/50\n",
            "469/469 [==============================] - 4s 9ms/step - loss: 0.0048 - accuracy: 0.9986 - val_loss: 0.0447 - val_accuracy: 0.9915\n",
            "Epoch 46/50\n",
            "469/469 [==============================] - 4s 9ms/step - loss: 0.0014 - accuracy: 0.9997 - val_loss: 0.0441 - val_accuracy: 0.9906\n",
            "Epoch 47/50\n",
            "469/469 [==============================] - 4s 9ms/step - loss: 7.8187e-04 - accuracy: 0.9998 - val_loss: 0.0403 - val_accuracy: 0.9931\n",
            "Epoch 48/50\n",
            "469/469 [==============================] - 4s 9ms/step - loss: 0.0061 - accuracy: 0.9980 - val_loss: 0.0458 - val_accuracy: 0.9892\n",
            "Epoch 49/50\n",
            "469/469 [==============================] - 4s 9ms/step - loss: 0.0045 - accuracy: 0.9985 - val_loss: 0.0495 - val_accuracy: 0.9894\n",
            "Epoch 50/50\n",
            "469/469 [==============================] - 4s 9ms/step - loss: 0.0024 - accuracy: 0.9990 - val_loss: 0.0442 - val_accuracy: 0.9911\n"
          ],
          "name": "stdout"
        }
      ]
    },
    {
      "cell_type": "code",
      "metadata": {
        "scrolled": true,
        "id": "-iLTF-fQU5Bh",
        "colab_type": "code",
        "colab": {}
      },
      "source": [
        "score = model.evaluate(test_ds, verbose=0)"
      ],
      "execution_count": 0,
      "outputs": []
    },
    {
      "cell_type": "code",
      "metadata": {
        "id": "m4qm6K_JU5Bn",
        "colab_type": "code",
        "colab": {
          "base_uri": "https://localhost:8080/",
          "height": 53
        },
        "outputId": "2385698e-7c2a-4928-fe2b-6ccfcf2e3ddf"
      },
      "source": [
        "print(\"Test Score \", score[0])\n",
        "print(\"Test Accuracy \", score[1])"
      ],
      "execution_count": 22,
      "outputs": [
        {
          "output_type": "stream",
          "text": [
            "Test Score  0.04418675974011421\n",
            "Test Accuracy  0.991100013256073\n"
          ],
          "name": "stdout"
        }
      ]
    },
    {
      "cell_type": "code",
      "metadata": {
        "id": "6MxJZkoiU5Br",
        "colab_type": "code",
        "colab": {
          "base_uri": "https://localhost:8080/",
          "height": 313
        },
        "outputId": "bdfb0e2f-098f-472d-994b-34de12701f49"
      },
      "source": [
        "plt.figure(figsize=(12,4))\n",
        "plt.subplot(1, 2, 1)\n",
        "plt.plot(history.history['accuracy'])\n",
        "plt.plot(history.history['val_accuracy'])\n",
        "plt.title('model accuracy')\n",
        "plt.xlabel('epoch')\n",
        "plt.ylabel('accuracy')\n",
        "plt.legend(['train', 'test'])\n",
        "\n",
        "plt.subplot(1, 2, 2)\n",
        "plt.plot(history.history['loss'])\n",
        "plt.plot(history.history['val_loss'])\n",
        "plt.title('model loss')\n",
        "plt.xlabel('epoch')\n",
        "plt.ylabel('loss')\n",
        "plt.legend(['train', 'test'])"
      ],
      "execution_count": 23,
      "outputs": [
        {
          "output_type": "execute_result",
          "data": {
            "text/plain": [
              "<matplotlib.legend.Legend at 0x7f1ae03a4da0>"
            ]
          },
          "metadata": {
            "tags": []
          },
          "execution_count": 23
        },
        {
          "output_type": "display_data",
          "data": {
            "image/png": "[encoded data removed]",
            "text/plain": [
              "<Figure size 864x288 with 2 Axes>"
            ]
          },
          "metadata": {
            "tags": [],
            "needs_background": "light"
          }
        }
      ]
    },
    {
      "cell_type": "code",
      "metadata": {
        "id": "IOTXHmD1U5Bu",
        "colab_type": "code",
        "colab": {
          "base_uri": "https://localhost:8080/",
          "height": 109
        },
        "outputId": "50219245-12b6-414b-8654-4a6160062f6e"
      },
      "source": [
        "y_pred = model.predict_classes(X_test_scaled)\n",
        "y_pred"
      ],
      "execution_count": 24,
      "outputs": [
        {
          "output_type": "stream",
          "text": [
            "WARNING:tensorflow:From <ipython-input-24-a183a67d9050>:1: Sequential.predict_classes (from tensorflow.python.keras.engine.sequential) is deprecated and will be removed after 2021-01-01.\n",
            "Instructions for updating:\n",
            "Please use instead:* `np.argmax(model.predict(x), axis=-1)`,   if your model does multi-class classification   (e.g. if it uses a `softmax` last-layer activation).* `(model.predict(x) > 0.5).astype(\"int32\")`,   if your model does binary classification   (e.g. if it uses a `sigmoid` last-layer activation).\n"
          ],
          "name": "stdout"
        },
        {
          "output_type": "execute_result",
          "data": {
            "text/plain": [
              "array([7, 2, 1, ..., 4, 5, 6])"
            ]
          },
          "metadata": {
            "tags": []
          },
          "execution_count": 24
        }
      ]
    },
    {
      "cell_type": "code",
      "metadata": {
        "id": "0v-reoVxU5Bw",
        "colab_type": "code",
        "colab": {
          "base_uri": "https://localhost:8080/",
          "height": 35
        },
        "outputId": "290e79ee-b045-4052-d2a0-041a42951df3"
      },
      "source": [
        "y_test"
      ],
      "execution_count": 25,
      "outputs": [
        {
          "output_type": "execute_result",
          "data": {
            "text/plain": [
              "array([7, 2, 1, ..., 4, 5, 6], dtype=uint8)"
            ]
          },
          "metadata": {
            "tags": []
          },
          "execution_count": 25
        }
      ]
    },
    {
      "cell_type": "code",
      "metadata": {
        "id": "M5SJr4x3U5Bz",
        "colab_type": "code",
        "colab": {
          "base_uri": "https://localhost:8080/",
          "height": 196
        },
        "outputId": "a319f4cb-3f3d-47ba-cf97-7bf679543c72"
      },
      "source": [
        "from sklearn.metrics import confusion_matrix, accuracy_score\n",
        "\n",
        "print(confusion_matrix(y_test, y_pred))"
      ],
      "execution_count": 26,
      "outputs": [
        {
          "output_type": "stream",
          "text": [
            "[[ 978    0    0    0    0    0    0    0    1    1]\n",
            " [   0 1132    0    0    0    0    1    1    1    0]\n",
            " [   0    0 1021    2    1    0    3    3    2    0]\n",
            " [   0    0    0 1009    0    0    0    1    0    0]\n",
            " [   0    0    1    0  973    0    5    0    0    3]\n",
            " [   1    0    0    6    0  882    2    0    0    1]\n",
            " [   4    3    0    0    0    2  949    0    0    0]\n",
            " [   0    3    3    0    2    0    0 1016    1    3]\n",
            " [   1    0    5    5    0    1    1    2  956    3]\n",
            " [   1    2    0    2    4    1    0    2    2  995]]\n"
          ],
          "name": "stdout"
        }
      ]
    },
    {
      "cell_type": "code",
      "metadata": {
        "id": "e4XKITXwU5B4",
        "colab_type": "code",
        "colab": {
          "base_uri": "https://localhost:8080/",
          "height": 483
        },
        "outputId": "ec805d59-4c47-46a1-8034-d054607c74b9"
      },
      "source": [
        "import seaborn as sns\n",
        "\n",
        "plt.figure(figsize=(7,6))\n",
        "\n",
        "sns.heatmap(confusion_matrix(y_test, y_pred), annot=True, fmt='d')\n",
        "\n",
        "plt.xticks(np.arange(10), list(range(10)), rotation=45, fontsize=12)\n",
        "plt.yticks(np.arange(10), list(range(10)), rotation=45, fontsize=12)\n",
        "plt.xlabel(\"true class\")\n",
        "plt.ylabel(\"predicted class\")\n",
        "plt.title('Confusion Matrix')\n",
        "print('Test Accuracy :', accuracy_score(y_test, y_pred))"
      ],
      "execution_count": 27,
      "outputs": [
        {
          "output_type": "stream",
          "text": [
            "/usr/local/lib/python3.6/dist-packages/statsmodels/tools/_testing.py:19: FutureWarning: pandas.util.testing is deprecated. Use the functions in the public API at pandas.testing instead.\n",
            "  import pandas.util.testing as tm\n"
          ],
          "name": "stderr"
        },
        {
          "output_type": "stream",
          "text": [
            "Test Accuracy : 0.9911\n"
          ],
          "name": "stdout"
        },
        {
          "output_type": "display_data",
          "data": {
            "image/png": "[encoded data removed]",
            "text/plain": [
              "<Figure size 504x432 with 2 Axes>"
            ]
          },
          "metadata": {
            "tags": [],
            "needs_background": "light"
          }
        }
      ]
    }
  ]
}